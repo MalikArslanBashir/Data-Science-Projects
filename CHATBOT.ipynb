{
  "nbformat": 4,
  "nbformat_minor": 0,
  "metadata": {
    "colab": {
      "provenance": [],
      "authorship_tag": "ABX9TyPJ891lTrI7Eq1MsuMPiGOc",
      "include_colab_link": true
    },
    "kernelspec": {
      "name": "python3",
      "display_name": "Python 3"
    },
    "language_info": {
      "name": "python"
    }
  },
  "cells": [
    {
      "cell_type": "markdown",
      "metadata": {
        "id": "view-in-github",
        "colab_type": "text"
      },
      "source": [
        "<a href=\"https://colab.research.google.com/github/MalikArslanBashir/Data-Science-Projects/blob/main/CHATBOT.ipynb\" target=\"_parent\"><img src=\"https://colab.research.google.com/assets/colab-badge.svg\" alt=\"Open In Colab\"/></a>"
      ]
    },
    {
      "cell_type": "markdown",
      "source": [
        "***A smart CHATBOT Program***\n",
        "\n",
        "> Let's Begin\n",
        "\n",
        "\n",
        "\n"
      ],
      "metadata": {
        "id": "6Jr6DWQGBvTK"
      }
    },
    {
      "cell_type": "code",
      "execution_count": 28,
      "metadata": {
        "colab": {
          "base_uri": "https://localhost:8080/"
        },
        "id": "1dGZQhZ9Bl6m",
        "outputId": "f1509c07-91b4-4d5b-e501-f17d7e8af06d"
      },
      "outputs": [
        {
          "output_type": "stream",
          "name": "stdout",
          "text": [
            "Requirement already satisfied: nltk in /usr/local/lib/python3.10/dist-packages (3.8.1)\n",
            "Requirement already satisfied: click in /usr/local/lib/python3.10/dist-packages (from nltk) (8.1.7)\n",
            "Requirement already satisfied: joblib in /usr/local/lib/python3.10/dist-packages (from nltk) (1.4.0)\n",
            "Requirement already satisfied: regex>=2021.8.3 in /usr/local/lib/python3.10/dist-packages (from nltk) (2023.12.25)\n",
            "Requirement already satisfied: tqdm in /usr/local/lib/python3.10/dist-packages (from nltk) (4.66.2)\n"
          ]
        }
      ],
      "source": [
        "!pip install nltk"
      ]
    },
    {
      "cell_type": "code",
      "source": [
        "!pip install newspaper3k"
      ],
      "metadata": {
        "colab": {
          "base_uri": "https://localhost:8080/"
        },
        "id": "WbKKnGs6Ce31",
        "outputId": "3dbf9db6-1420-4215-c1cd-d3434bf57e7f"
      },
      "execution_count": 29,
      "outputs": [
        {
          "output_type": "stream",
          "name": "stdout",
          "text": [
            "Requirement already satisfied: newspaper3k in /usr/local/lib/python3.10/dist-packages (0.2.8)\n",
            "Requirement already satisfied: beautifulsoup4>=4.4.1 in /usr/local/lib/python3.10/dist-packages (from newspaper3k) (4.12.3)\n",
            "Requirement already satisfied: Pillow>=3.3.0 in /usr/local/lib/python3.10/dist-packages (from newspaper3k) (9.4.0)\n",
            "Requirement already satisfied: PyYAML>=3.11 in /usr/local/lib/python3.10/dist-packages (from newspaper3k) (6.0.1)\n",
            "Requirement already satisfied: cssselect>=0.9.2 in /usr/local/lib/python3.10/dist-packages (from newspaper3k) (1.2.0)\n",
            "Requirement already satisfied: lxml>=3.6.0 in /usr/local/lib/python3.10/dist-packages (from newspaper3k) (4.9.4)\n",
            "Requirement already satisfied: nltk>=3.2.1 in /usr/local/lib/python3.10/dist-packages (from newspaper3k) (3.8.1)\n",
            "Requirement already satisfied: requests>=2.10.0 in /usr/local/lib/python3.10/dist-packages (from newspaper3k) (2.31.0)\n",
            "Requirement already satisfied: feedparser>=5.2.1 in /usr/local/lib/python3.10/dist-packages (from newspaper3k) (6.0.11)\n",
            "Requirement already satisfied: tldextract>=2.0.1 in /usr/local/lib/python3.10/dist-packages (from newspaper3k) (5.1.2)\n",
            "Requirement already satisfied: feedfinder2>=0.0.4 in /usr/local/lib/python3.10/dist-packages (from newspaper3k) (0.0.4)\n",
            "Requirement already satisfied: jieba3k>=0.35.1 in /usr/local/lib/python3.10/dist-packages (from newspaper3k) (0.35.1)\n",
            "Requirement already satisfied: python-dateutil>=2.5.3 in /usr/local/lib/python3.10/dist-packages (from newspaper3k) (2.8.2)\n",
            "Requirement already satisfied: tinysegmenter==0.3 in /usr/local/lib/python3.10/dist-packages (from newspaper3k) (0.3)\n",
            "Requirement already satisfied: soupsieve>1.2 in /usr/local/lib/python3.10/dist-packages (from beautifulsoup4>=4.4.1->newspaper3k) (2.5)\n",
            "Requirement already satisfied: six in /usr/local/lib/python3.10/dist-packages (from feedfinder2>=0.0.4->newspaper3k) (1.16.0)\n",
            "Requirement already satisfied: sgmllib3k in /usr/local/lib/python3.10/dist-packages (from feedparser>=5.2.1->newspaper3k) (1.0.0)\n",
            "Requirement already satisfied: click in /usr/local/lib/python3.10/dist-packages (from nltk>=3.2.1->newspaper3k) (8.1.7)\n",
            "Requirement already satisfied: joblib in /usr/local/lib/python3.10/dist-packages (from nltk>=3.2.1->newspaper3k) (1.4.0)\n",
            "Requirement already satisfied: regex>=2021.8.3 in /usr/local/lib/python3.10/dist-packages (from nltk>=3.2.1->newspaper3k) (2023.12.25)\n",
            "Requirement already satisfied: tqdm in /usr/local/lib/python3.10/dist-packages (from nltk>=3.2.1->newspaper3k) (4.66.2)\n",
            "Requirement already satisfied: charset-normalizer<4,>=2 in /usr/local/lib/python3.10/dist-packages (from requests>=2.10.0->newspaper3k) (3.3.2)\n",
            "Requirement already satisfied: idna<4,>=2.5 in /usr/local/lib/python3.10/dist-packages (from requests>=2.10.0->newspaper3k) (3.7)\n",
            "Requirement already satisfied: urllib3<3,>=1.21.1 in /usr/local/lib/python3.10/dist-packages (from requests>=2.10.0->newspaper3k) (2.0.7)\n",
            "Requirement already satisfied: certifi>=2017.4.17 in /usr/local/lib/python3.10/dist-packages (from requests>=2.10.0->newspaper3k) (2024.2.2)\n",
            "Requirement already satisfied: requests-file>=1.4 in /usr/local/lib/python3.10/dist-packages (from tldextract>=2.0.1->newspaper3k) (2.0.0)\n",
            "Requirement already satisfied: filelock>=3.0.8 in /usr/local/lib/python3.10/dist-packages (from tldextract>=2.0.1->newspaper3k) (3.14.0)\n"
          ]
        }
      ]
    },
    {
      "cell_type": "markdown",
      "source": [
        "**Importing Necesssary Libraries**"
      ],
      "metadata": {
        "id": "rOHlx8SJD5Fl"
      }
    },
    {
      "cell_type": "code",
      "source": [
        "from newspaper  import  Article\n",
        "import random\n",
        "import string\n",
        "import nltk\n",
        "from sklearn.feature_extraction.text import CountVectorizer\n",
        "from sklearn.metrics.pairwise import cosine_similarity\n",
        "import numpy as np\n",
        "import warnings\n",
        "warnings.filterwarnings('ignore')"
      ],
      "metadata": {
        "id": "t3T_nPJ-Cr80"
      },
      "execution_count": 30,
      "outputs": []
    },
    {
      "cell_type": "code",
      "source": [
        "#Downloading the Punkt package\n",
        "nltk.download('punkt', quiet=True)"
      ],
      "metadata": {
        "colab": {
          "base_uri": "https://localhost:8080/"
        },
        "id": "aJuCXAitC0qk",
        "outputId": "7dfdfdb6-ab89-4ff6-cc56-21021ca70dcd"
      },
      "execution_count": 31,
      "outputs": [
        {
          "output_type": "execute_result",
          "data": {
            "text/plain": [
              "True"
            ]
          },
          "metadata": {},
          "execution_count": 31
        }
      ]
    },
    {
      "cell_type": "code",
      "source": [
        "article = Article('https://www.mayoclinic.org/diseases-conditions/coronavirus/symptoms-causes/syc-20479963')\n",
        "article.download()\n",
        "article.parse()\n",
        "article.nlp()\n",
        "article.text\n",
        "corpus = article.text"
      ],
      "metadata": {
        "id": "UZWoF6OgFU99"
      },
      "execution_count": 32,
      "outputs": []
    },
    {
      "cell_type": "code",
      "source": [
        "print(corpus)"
      ],
      "metadata": {
        "colab": {
          "base_uri": "https://localhost:8080/"
        },
        "id": "SPoPS0KwI93e",
        "outputId": "933a4d30-8d96-4970-9c5b-77cd41e2fbf7"
      },
      "execution_count": 33,
      "outputs": [
        {
          "output_type": "stream",
          "name": "stdout",
          "text": [
            "Overview\n",
            "\n",
            "COVID-19, also called coronavirus disease 2019, is an illness caused by a virus. The virus is called severe acute respiratory syndrome coronavirus 2, or more commonly, SARS-CoV-2. It started spreading at the end of 2019 and became a pandemic disease in 2020.\n",
            "\n",
            "Coronavirus Enlarge image Close Coronavirus Coronavirus Coronaviruses are a family of viruses. These viruses cause illnesses such as the common cold, severe acute respiratory syndrome (SARS), Middle East respiratory syndrome (MERS) and coronavirus disease 2019 (COVID-19).\n",
            "\n",
            "The virus that causes COVID-19 spreads most commonly through the air in tiny droplets of fluid between people in close contact. Many people with COVID-19 have no symptoms or mild illness. But for older adults and people with certain medical conditions, COVID-19 can lead to the need for care in the hospital or death.\n",
            "\n",
            "Staying up to date on your COVID-19 vaccine helps prevent serious illness, the need for hospital care due to COVID-19 and death from COVID-19 . Other ways that may help prevent the spread of this coronavirus includes good indoor air flow, physical distancing, wearing a mask in the right setting and good hygiene.\n",
            "\n",
            "Medicine can limit the seriousness of the viral infection. Most people recover without long-term effects, but some people have symptoms that continue for months.\n",
            "\n",
            "Symptoms\n",
            "\n",
            "Typical COVID-19 symptoms often show up 2 to 14 days after contact with the virus.\n",
            "\n",
            "Symptoms can include:\n",
            "\n",
            "Dry cough.\n",
            "\n",
            "Shortness of breath.\n",
            "\n",
            "Loss of taste or smell.\n",
            "\n",
            "Extreme tiredness, called fatigue.\n",
            "\n",
            "Digestive symptoms such as upset stomach, vomiting or loose stools, called diarrhea.\n",
            "\n",
            "Pain, such as headaches and body or muscle aches.\n",
            "\n",
            "Fever or chills.\n",
            "\n",
            "Cold-like symptoms such as congestion, runny nose or sore throat.\n",
            "\n",
            "People may only have a few symptoms or none. People who have no symptoms but test positive for COVID-19 are called asymptomatic. For example, many children who test positive don't have symptoms of COVID-19 illness. People who go on to have symptoms are considered presymptomatic. Both groups can still spread COVID-19 to others.\n",
            "\n",
            "Some people may have symptoms that get worse about 7 to 14 days after symptoms start.\n",
            "\n",
            "Most people with COVID-19 have mild to moderate symptoms. But COVID-19 can cause serious medical complications and lead to death. Older adults or people who already have medical conditions are at greater risk of serious illness.\n",
            "\n",
            "COVID-19 may be a mild, moderate, severe or critical illness.\n",
            "\n",
            "In broad terms, mild COVID-19 doesn't affect the ability of the lungs to get oxygen to the body.\n",
            "\n",
            "In moderate COVID-19 illness, the lungs also work properly but there are signs that the infection is deep in the lungs.\n",
            "\n",
            "Severe COVID-19 means that the lungs don't work correctly, and the person needs oxygen and other medical help in the hospital.\n",
            "\n",
            "Critical COVID-19 illness means the lung and breathing system, called the respiratory system, has failed and there is damage throughout the body.\n",
            "\n",
            "Rarely, people who catch the coronavirus can develop a group of symptoms linked to inflamed organs or tissues. The illness is called multisystem inflammatory syndrome. When children have this illness, it is called multisystem inflammatory syndrome in children, shortened to MIS -C. In adults, the name is MIS -A.\n",
            "\n",
            "When to see a doctor\n",
            "\n",
            "Contact a healthcare professional if you test positive for COVID-19 . If you have symptoms and need to test for COVID-19 , or you've been exposed to someone with COVID-19 , a healthcare professional can help.\n",
            "\n",
            "People who are at high risk of serious illness may get medicine to block the spread of the COVID-19 virus in the body. Or your healthcare team may plan regular checks to monitor your health.\n",
            "\n",
            "Get emergency help right away for any of these symptoms:\n",
            "\n",
            "Can't catch your breath or have problems breathing.\n",
            "\n",
            "Skin, lips or nail beds that are pale, gray or blue.\n",
            "\n",
            "New confusion.\n",
            "\n",
            "Trouble staying awake or waking up.\n",
            "\n",
            "Chest pain or pressure that is constant.\n",
            "\n",
            "This list doesn't include every emergency symptom. If you or a person you're taking care of has symptoms that worry you, get help. Let the healthcare team know about a positive test for COVID-19 or symptoms of the illness.\n",
            "\n",
            "There is a problem with information submitted for this request. Review/update the information highlighted below and resubmit the form. From Mayo Clinic to your inbox Sign up for free and stay up to date on research advancements, health tips, current health topics, and expertise on managing health. Click here for an email preview. Email ErrorEmail field is required ErrorInclude a valid email address Learn more about Mayo Clinic’s use of data. To provide you with the most relevant and helpful information, and understand which information is beneficial, we may combine your email and website usage information with other information we have about you. If you are a Mayo Clinic patient, this could include protected health information. If we combine this information with your protected health information, we will treat all of that information as protected health information and will only use or disclose that information as set forth in our notice of privacy practices. You may opt-out of email communications at any time by clicking on the unsubscribe link in the e-mail. Subscribe! Thank you for subscribing! You'll soon start receiving the latest Mayo Clinic health information you requested in your inbox. Sorry something went wrong with your subscription Please, try again in a couple of minutes Retry\n",
            "\n",
            "Causes\n",
            "\n",
            "COVID-19 is caused by infection with the severe acute respiratory syndrome coronavirus 2, also called SARS-CoV-2.\n",
            "\n",
            "The coronavirus spreads mainly from person to person, even from someone who is infected but has no symptoms. When people with COVID-19 cough, sneeze, breathe, sing or talk, their breath may be infected with the COVID-19 virus.\n",
            "\n",
            "The coronavirus carried by a person's breath can land directly on the face of a nearby person, after a sneeze or cough, for example. The droplets or particles the infected person breathes out could possibly be breathed in by other people if they are close together or in areas with low air flow. And a person may touch a surface that has respiratory droplets and then touch their face with hands that have the coronavirus on them.\n",
            "\n",
            "It's possible to get COVID-19 more than once.\n",
            "\n",
            "Over time, the body's defense against the COVID-19 virus can fade.\n",
            "\n",
            "virus can fade. A person may be exposed to so much of the virus that it breaks through their immune defense.\n",
            "\n",
            "As a virus infects a group of people, the virus copies itself. During this process, the genetic code can randomly change in each copy. The changes are called mutations. If the coronavirus that causes COVID-19 changes in ways that make previous infections or vaccination less effective at preventing infection, people can get sick again.\n",
            "\n",
            "The virus that causes COVID-19 can infect some pets. Cats, dogs, hamsters and ferrets have caught this coronavirus and had symptoms. It's rare for a person to get COVID-19 from a pet.\n",
            "\n",
            "Risk factors\n",
            "\n",
            "The main risk factors for COVID-19 are:\n",
            "\n",
            "If someone you live with has COVID-19 .\n",
            "\n",
            ". If you spend time in places with poor air flow and a higher number of people when the virus is spreading.\n",
            "\n",
            "If you spend more than 30 minutes in close contact with someone who has COVID-19 .\n",
            "\n",
            "Many factors affect your risk of catching the virus that causes COVID-19 . How long you are in contact, if the space has good air flow and your activities all affect the risk. Also, if you or others wear masks, if someone has COVID-19 symptoms and how close you are affects your risk. Close contact includes sitting and talking next to one another, for example, or sharing a car or bedroom.\n",
            "\n",
            "It seems to be rare for people to catch the virus that causes COVID-19 from an infected surface. While the virus is shed in waste, called stool, COVID-19 infection from places such as a public bathroom is not common.\n",
            "\n",
            "Serious COVID-19 illness risk factors\n",
            "\n",
            "Some people are at a higher risk of serious COVID-19 illness than others. This includes people age 65 and older as well as babies younger than 6 months. Those age groups have the highest risk of needing hospital care for COVID-19 .\n",
            "\n",
            "Not every risk factor for serious COVID-19 illness is known. People of all ages who have no other medical issues have needed hospital care for COVID-19 .\n",
            "\n",
            "Known risk factors for serious illness include people who have not gotten a COVID-19 vaccine. Serious illness also is a higher risk for people who have:\n",
            "\n",
            "Sickle cell disease or thalassemia.\n",
            "\n",
            "Serious heart diseases and possibly high blood pressure.\n",
            "\n",
            "Chronic kidney, liver or lung diseases.\n",
            "\n",
            "People with dementia or Alzheimer's also are at higher risk, as are people with brain and nervous system conditions such as stroke. Smoking increases the risk of serious COVID-19 illness. And people with a body mass index in the overweight category or obese category may have a higher risk as well.\n",
            "\n",
            "Other medical conditions that may raise the risk of serious illness from COVID-19 include:\n",
            "\n",
            "Cancer or a history of cancer.\n",
            "\n",
            "Type 1 or type 2 diabetes.\n",
            "\n",
            "Weakened immune system from solid organ transplants or bone marrow transplants, some medicines, or HIV .\n",
            "\n",
            ". Pregnancy.\n",
            "\n",
            "This list is not complete. Factors linked to a health issue may raise the risk of serious COVID-19 illness too. Examples are a medical condition where people live in a group home, or lack of access to medical care. Also, people with more than one health issue, or people of older age who also have health issues have a higher chance of severe illness.\n",
            "\n",
            "Complications\n",
            "\n",
            "Complications of COVID-19 include long-term loss of taste and smell, skin rashes, and sores. The illness can cause trouble breathing or pneumonia. Medical issues a person already manages may get worse.\n",
            "\n",
            "Complications of severe COVID-19 illness can include:\n",
            "\n",
            "Acute respiratory distress syndrome, when the body's organs do not get enough oxygen.\n",
            "\n",
            "Shock caused by the infection or heart problems.\n",
            "\n",
            "Overreaction of the immune system, called the inflammatory response.\n",
            "\n",
            "Blood clots.\n",
            "\n",
            "Kidney injury.\n",
            "\n",
            "Post-COVID-19 syndrome\n",
            "\n",
            "After a COVID-19 infection, some people report that symptoms continue for months, or they develop new symptoms. This syndrome has often been called long COVID, or post- COVID-19 . You might hear it called long haul COVID-19 , post-COVID conditions or PASC. That's short for post-acute sequelae of SARS -CoV-2.\n",
            "\n",
            "Other infections, such as the flu and polio, can lead to long-term illness. But the virus that causes COVID-19 has only been studied since it began to spread in 2019. So, research into the specific effects of long-term COVID-19 symptoms continues.\n",
            "\n",
            "Researchers do think that post- COVID-19 syndrome can happen after an illness of any severity.\n",
            "\n",
            "Getting a COVID-19 vaccine may help prevent post- COVID-19 syndrome.\n",
            "\n",
            "Prevention\n",
            "\n",
            "The Centers for Disease Control and Prevention (CDC) recommends a COVID-19 vaccine for everyone age 6 months and older. The COVID-19 vaccine can lower the risk of death or serious illness caused by COVID-19.\n",
            "\n",
            "The COVID-19 vaccines available in the United States are:\n",
            "\n",
            "2023-2024 Pfizer-BioNTech COVID-19 vaccine. This vaccine is available for people age 6 months and older. Among people with a typical immune system: Children age 6 months up to age 4 years are up to date after three doses of a Pfizer-BioNTech COVID-19 vaccine. People age 5 and older are up to date after one Pfizer-BioNTech COVID-19 vaccine. For people who have not had a 2023-2024 COVID-19 vaccination, the CDC recommends getting an additional shot of that updated vaccine.\n",
            "\n",
            "\n",
            "\n",
            "2023-2024 Moderna COVID-19 vaccine. This vaccine is available for people age 6 months and older. Among people with a typical immune system: Children ages 6 months up to age 4 are up to date if they've had two doses of a Moderna COVID-19 vaccine. People age 5 and older are up to date with one Moderna COVID-19 vaccine. For people who have not had a 2023-2024 COVID-19 vaccination, the CDC recommends getting an additional shot of that updated vaccine.\n",
            "\n",
            "\n",
            "\n",
            "2023-2024 Novavax COVID-19 vaccine. This vaccine is available for people age 12 years and older. Among people with a typical immune system: People age 12 years and older are up to date if they've had two doses of a Novavax COVID-19 vaccine. For people who have not had a 2023-2024 COVID-19 vaccination, the CDC recommends getting an additional shot of that updated vaccine.\n",
            "\n",
            "\n",
            "\n",
            "In general, people age 5 and older with typical immune systems can get any vaccine approved or authorized for their age. They usually don't need to get the same vaccine each time.\n",
            "\n",
            "Some people should get all their vaccine doses from the same vaccine maker, including:\n",
            "\n",
            "Children ages 6 months to 4 years.\n",
            "\n",
            "People age 5 years and older with weakened immune systems.\n",
            "\n",
            "People age 12 and older who have had one shot of the Novavax vaccine should get the second Novavax shot in the two-dose series.\n",
            "\n",
            "Talk to your healthcare professional if you have any questions about the vaccines for you or your child. Your healthcare team can help you if:\n",
            "\n",
            "The vaccine you or your child got earlier isn't available.\n",
            "\n",
            "You don't know which vaccine you or your child received.\n",
            "\n",
            "You or your child started a vaccine series but couldn't finish it due to side effects.\n",
            "\n",
            "People with weakened immune systems\n",
            "\n",
            "Your healthcare team may suggest added doses of COVID-19 vaccine if you have a moderately or seriously weakened immune system. The FDA has also authorized the monoclonal antibody pemivibart (Pemgarda) to prevent COVID-19 in some people with weakened immune systems.\n",
            "\n",
            "Control the spread of infection\n",
            "\n",
            "In addition to vaccination, there are other ways to stop the spread of the virus that causes COVID-19 .\n",
            "\n",
            "If you are at a higher risk of serious illness, talk to your healthcare professional about how best to protect yourself. Know what to do if you get sick so you can quickly start treatment.\n",
            "\n",
            "If you feel ill or have COVID-19 , stay home and away from others, including pets, if possible. Avoid sharing household items such as dishes or towels if you're sick.\n",
            "\n",
            "In general, make it a habit to:\n",
            "\n",
            "Test for COVID-19 . If you have symptoms of COVID-19 test for the infection. Or test five days after you came in contact with the virus.\n",
            "\n",
            "If you have symptoms of test for the infection. Or test five days after you came in contact with the virus. Help from afar. Avoid close contact with anyone who is sick or has symptoms, if possible.\n",
            "\n",
            "Avoid close contact with anyone who is sick or has symptoms, if possible. Wash your hands. Wash your hands well and often with soap and water for at least 20 seconds. Or use an alcohol-based hand sanitizer with at least 60% alcohol.\n",
            "\n",
            "Wash your hands well and often with soap and water for at least 20 seconds. Or use an alcohol-based hand sanitizer with at least 60% alcohol. Cover your coughs and sneezes. Cough or sneeze into a tissue or your elbow. Then wash your hands.\n",
            "\n",
            "Cough or sneeze into a tissue or your elbow. Then wash your hands. Clean and disinfect high-touch surfaces. For example, clean doorknobs, light switches, electronics and counters regularly.\n",
            "\n",
            "Try to spread out in crowded public areas, especially in places with poor airflow. This is important if you have a higher risk of serious illness.\n",
            "\n",
            "The CDC recommends that people wear a mask in indoor public spaces if you're in an area with a high number of people with COVID-19 in the hospital. They suggest wearing the most protective mask possible that you'll wear regularly, that fits well and is comfortable.\n",
            "\n",
            "Travel and COVID-19\n",
            "\n",
            "Travel brings people together from areas where illnesses may be at higher levels. Masks can help slow the spread of respiratory diseases in general, including COVID-19 . Masks help the most in places with low air flow and where you are in close contact with other people. Also, masks can help if the places you travel to or through have a high level of illness.\n"
          ]
        }
      ]
    },
    {
      "cell_type": "code",
      "source": [
        "#Let's do Tokenization\n",
        "text = corpus\n",
        "sentence_list = nltk.sent_tokenize(text)  #List of sentences"
      ],
      "metadata": {
        "id": "aGy-aYEBJ8tP"
      },
      "execution_count": 34,
      "outputs": []
    },
    {
      "cell_type": "code",
      "source": [
        "#Printng the list of sentences\n",
        "print(sentence_list)"
      ],
      "metadata": {
        "colab": {
          "base_uri": "https://localhost:8080/"
        },
        "id": "fhPOt-9XMwI5",
        "outputId": "4b3e8dd2-5f69-48d3-bb0e-1a35376e2d53"
      },
      "execution_count": 35,
      "outputs": [
        {
          "output_type": "stream",
          "name": "stdout",
          "text": [
            "['Overview\\n\\nCOVID-19, also called coronavirus disease 2019, is an illness caused by a virus.', 'The virus is called severe acute respiratory syndrome coronavirus 2, or more commonly, SARS-CoV-2.', 'It started spreading at the end of 2019 and became a pandemic disease in 2020.', 'Coronavirus Enlarge image Close Coronavirus Coronavirus Coronaviruses are a family of viruses.', 'These viruses cause illnesses such as the common cold, severe acute respiratory syndrome (SARS), Middle East respiratory syndrome (MERS) and coronavirus disease 2019 (COVID-19).', 'The virus that causes COVID-19 spreads most commonly through the air in tiny droplets of fluid between people in close contact.', 'Many people with COVID-19 have no symptoms or mild illness.', 'But for older adults and people with certain medical conditions, COVID-19 can lead to the need for care in the hospital or death.', 'Staying up to date on your COVID-19 vaccine helps prevent serious illness, the need for hospital care due to COVID-19 and death from COVID-19 .', 'Other ways that may help prevent the spread of this coronavirus includes good indoor air flow, physical distancing, wearing a mask in the right setting and good hygiene.', 'Medicine can limit the seriousness of the viral infection.', 'Most people recover without long-term effects, but some people have symptoms that continue for months.', 'Symptoms\\n\\nTypical COVID-19 symptoms often show up 2 to 14 days after contact with the virus.', 'Symptoms can include:\\n\\nDry cough.', 'Shortness of breath.', 'Loss of taste or smell.', 'Extreme tiredness, called fatigue.', 'Digestive symptoms such as upset stomach, vomiting or loose stools, called diarrhea.', 'Pain, such as headaches and body or muscle aches.', 'Fever or chills.', 'Cold-like symptoms such as congestion, runny nose or sore throat.', 'People may only have a few symptoms or none.', 'People who have no symptoms but test positive for COVID-19 are called asymptomatic.', \"For example, many children who test positive don't have symptoms of COVID-19 illness.\", 'People who go on to have symptoms are considered presymptomatic.', 'Both groups can still spread COVID-19 to others.', 'Some people may have symptoms that get worse about 7 to 14 days after symptoms start.', 'Most people with COVID-19 have mild to moderate symptoms.', 'But COVID-19 can cause serious medical complications and lead to death.', 'Older adults or people who already have medical conditions are at greater risk of serious illness.', 'COVID-19 may be a mild, moderate, severe or critical illness.', \"In broad terms, mild COVID-19 doesn't affect the ability of the lungs to get oxygen to the body.\", 'In moderate COVID-19 illness, the lungs also work properly but there are signs that the infection is deep in the lungs.', \"Severe COVID-19 means that the lungs don't work correctly, and the person needs oxygen and other medical help in the hospital.\", 'Critical COVID-19 illness means the lung and breathing system, called the respiratory system, has failed and there is damage throughout the body.', 'Rarely, people who catch the coronavirus can develop a group of symptoms linked to inflamed organs or tissues.', 'The illness is called multisystem inflammatory syndrome.', 'When children have this illness, it is called multisystem inflammatory syndrome in children, shortened to MIS -C. In adults, the name is MIS -A.', 'When to see a doctor\\n\\nContact a healthcare professional if you test positive for COVID-19 .', \"If you have symptoms and need to test for COVID-19 , or you've been exposed to someone with COVID-19 , a healthcare professional can help.\", 'People who are at high risk of serious illness may get medicine to block the spread of the COVID-19 virus in the body.', 'Or your healthcare team may plan regular checks to monitor your health.', \"Get emergency help right away for any of these symptoms:\\n\\nCan't catch your breath or have problems breathing.\", 'Skin, lips or nail beds that are pale, gray or blue.', 'New confusion.', 'Trouble staying awake or waking up.', 'Chest pain or pressure that is constant.', \"This list doesn't include every emergency symptom.\", \"If you or a person you're taking care of has symptoms that worry you, get help.\", 'Let the healthcare team know about a positive test for COVID-19 or symptoms of the illness.', 'There is a problem with information submitted for this request.', 'Review/update the information highlighted below and resubmit the form.', 'From Mayo Clinic to your inbox Sign up for free and stay up to date on research advancements, health tips, current health topics, and expertise on managing health.', 'Click here for an email preview.', 'Email ErrorEmail field is required ErrorInclude a valid email address Learn more about Mayo Clinic’s use of data.', 'To provide you with the most relevant and helpful information, and understand which information is beneficial, we may combine your email and website usage information with other information we have about you.', 'If you are a Mayo Clinic patient, this could include protected health information.', 'If we combine this information with your protected health information, we will treat all of that information as protected health information and will only use or disclose that information as set forth in our notice of privacy practices.', 'You may opt-out of email communications at any time by clicking on the unsubscribe link in the e-mail.', 'Subscribe!', 'Thank you for subscribing!', \"You'll soon start receiving the latest Mayo Clinic health information you requested in your inbox.\", 'Sorry something went wrong with your subscription Please, try again in a couple of minutes Retry\\n\\nCauses\\n\\nCOVID-19 is caused by infection with the severe acute respiratory syndrome coronavirus 2, also called SARS-CoV-2.', 'The coronavirus spreads mainly from person to person, even from someone who is infected but has no symptoms.', 'When people with COVID-19 cough, sneeze, breathe, sing or talk, their breath may be infected with the COVID-19 virus.', \"The coronavirus carried by a person's breath can land directly on the face of a nearby person, after a sneeze or cough, for example.\", 'The droplets or particles the infected person breathes out could possibly be breathed in by other people if they are close together or in areas with low air flow.', 'And a person may touch a surface that has respiratory droplets and then touch their face with hands that have the coronavirus on them.', \"It's possible to get COVID-19 more than once.\", \"Over time, the body's defense against the COVID-19 virus can fade.\", 'virus can fade.', 'A person may be exposed to so much of the virus that it breaks through their immune defense.', 'As a virus infects a group of people, the virus copies itself.', 'During this process, the genetic code can randomly change in each copy.', 'The changes are called mutations.', 'If the coronavirus that causes COVID-19 changes in ways that make previous infections or vaccination less effective at preventing infection, people can get sick again.', 'The virus that causes COVID-19 can infect some pets.', 'Cats, dogs, hamsters and ferrets have caught this coronavirus and had symptoms.', \"It's rare for a person to get COVID-19 from a pet.\", 'Risk factors\\n\\nThe main risk factors for COVID-19 are:\\n\\nIf someone you live with has COVID-19 .', '.', 'If you spend time in places with poor air flow and a higher number of people when the virus is spreading.', 'If you spend more than 30 minutes in close contact with someone who has COVID-19 .', 'Many factors affect your risk of catching the virus that causes COVID-19 .', 'How long you are in contact, if the space has good air flow and your activities all affect the risk.', 'Also, if you or others wear masks, if someone has COVID-19 symptoms and how close you are affects your risk.', 'Close contact includes sitting and talking next to one another, for example, or sharing a car or bedroom.', 'It seems to be rare for people to catch the virus that causes COVID-19 from an infected surface.', 'While the virus is shed in waste, called stool, COVID-19 infection from places such as a public bathroom is not common.', 'Serious COVID-19 illness risk factors\\n\\nSome people are at a higher risk of serious COVID-19 illness than others.', 'This includes people age 65 and older as well as babies younger than 6 months.', 'Those age groups have the highest risk of needing hospital care for COVID-19 .', 'Not every risk factor for serious COVID-19 illness is known.', 'People of all ages who have no other medical issues have needed hospital care for COVID-19 .', 'Known risk factors for serious illness include people who have not gotten a COVID-19 vaccine.', 'Serious illness also is a higher risk for people who have:\\n\\nSickle cell disease or thalassemia.', 'Serious heart diseases and possibly high blood pressure.', 'Chronic kidney, liver or lung diseases.', \"People with dementia or Alzheimer's also are at higher risk, as are people with brain and nervous system conditions such as stroke.\", 'Smoking increases the risk of serious COVID-19 illness.', 'And people with a body mass index in the overweight category or obese category may have a higher risk as well.', 'Other medical conditions that may raise the risk of serious illness from COVID-19 include:\\n\\nCancer or a history of cancer.', 'Type 1 or type 2 diabetes.', 'Weakened immune system from solid organ transplants or bone marrow transplants, some medicines, or HIV .', '.', 'Pregnancy.', 'This list is not complete.', 'Factors linked to a health issue may raise the risk of serious COVID-19 illness too.', 'Examples are a medical condition where people live in a group home, or lack of access to medical care.', 'Also, people with more than one health issue, or people of older age who also have health issues have a higher chance of severe illness.', 'Complications\\n\\nComplications of COVID-19 include long-term loss of taste and smell, skin rashes, and sores.', 'The illness can cause trouble breathing or pneumonia.', 'Medical issues a person already manages may get worse.', \"Complications of severe COVID-19 illness can include:\\n\\nAcute respiratory distress syndrome, when the body's organs do not get enough oxygen.\", 'Shock caused by the infection or heart problems.', 'Overreaction of the immune system, called the inflammatory response.', 'Blood clots.', 'Kidney injury.', 'Post-COVID-19 syndrome\\n\\nAfter a COVID-19 infection, some people report that symptoms continue for months, or they develop new symptoms.', 'This syndrome has often been called long COVID, or post- COVID-19 .', 'You might hear it called long haul COVID-19 , post-COVID conditions or PASC.', \"That's short for post-acute sequelae of SARS -CoV-2.\", 'Other infections, such as the flu and polio, can lead to long-term illness.', 'But the virus that causes COVID-19 has only been studied since it began to spread in 2019.', 'So, research into the specific effects of long-term COVID-19 symptoms continues.', 'Researchers do think that post- COVID-19 syndrome can happen after an illness of any severity.', 'Getting a COVID-19 vaccine may help prevent post- COVID-19 syndrome.', 'Prevention\\n\\nThe Centers for Disease Control and Prevention (CDC) recommends a COVID-19 vaccine for everyone age 6 months and older.', 'The COVID-19 vaccine can lower the risk of death or serious illness caused by COVID-19.', 'The COVID-19 vaccines available in the United States are:\\n\\n2023-2024 Pfizer-BioNTech COVID-19 vaccine.', 'This vaccine is available for people age 6 months and older.', 'Among people with a typical immune system: Children age 6 months up to age 4 years are up to date after three doses of a Pfizer-BioNTech COVID-19 vaccine.', 'People age 5 and older are up to date after one Pfizer-BioNTech COVID-19 vaccine.', 'For people who have not had a 2023-2024 COVID-19 vaccination, the CDC recommends getting an additional shot of that updated vaccine.', '2023-2024 Moderna COVID-19 vaccine.', 'This vaccine is available for people age 6 months and older.', \"Among people with a typical immune system: Children ages 6 months up to age 4 are up to date if they've had two doses of a Moderna COVID-19 vaccine.\", 'People age 5 and older are up to date with one Moderna COVID-19 vaccine.', 'For people who have not had a 2023-2024 COVID-19 vaccination, the CDC recommends getting an additional shot of that updated vaccine.', '2023-2024 Novavax COVID-19 vaccine.', 'This vaccine is available for people age 12 years and older.', \"Among people with a typical immune system: People age 12 years and older are up to date if they've had two doses of a Novavax COVID-19 vaccine.\", 'For people who have not had a 2023-2024 COVID-19 vaccination, the CDC recommends getting an additional shot of that updated vaccine.', 'In general, people age 5 and older with typical immune systems can get any vaccine approved or authorized for their age.', \"They usually don't need to get the same vaccine each time.\", 'Some people should get all their vaccine doses from the same vaccine maker, including:\\n\\nChildren ages 6 months to 4 years.', 'People age 5 years and older with weakened immune systems.', 'People age 12 and older who have had one shot of the Novavax vaccine should get the second Novavax shot in the two-dose series.', 'Talk to your healthcare professional if you have any questions about the vaccines for you or your child.', \"Your healthcare team can help you if:\\n\\nThe vaccine you or your child got earlier isn't available.\", \"You don't know which vaccine you or your child received.\", \"You or your child started a vaccine series but couldn't finish it due to side effects.\", 'People with weakened immune systems\\n\\nYour healthcare team may suggest added doses of COVID-19 vaccine if you have a moderately or seriously weakened immune system.', 'The FDA has also authorized the monoclonal antibody pemivibart (Pemgarda) to prevent COVID-19 in some people with weakened immune systems.', 'Control the spread of infection\\n\\nIn addition to vaccination, there are other ways to stop the spread of the virus that causes COVID-19 .', 'If you are at a higher risk of serious illness, talk to your healthcare professional about how best to protect yourself.', 'Know what to do if you get sick so you can quickly start treatment.', 'If you feel ill or have COVID-19 , stay home and away from others, including pets, if possible.', \"Avoid sharing household items such as dishes or towels if you're sick.\", 'In general, make it a habit to:\\n\\nTest for COVID-19 .', 'If you have symptoms of COVID-19 test for the infection.', 'Or test five days after you came in contact with the virus.', 'If you have symptoms of test for the infection.', 'Or test five days after you came in contact with the virus.', 'Help from afar.', 'Avoid close contact with anyone who is sick or has symptoms, if possible.', 'Avoid close contact with anyone who is sick or has symptoms, if possible.', 'Wash your hands.', 'Wash your hands well and often with soap and water for at least 20 seconds.', 'Or use an alcohol-based hand sanitizer with at least 60% alcohol.', 'Wash your hands well and often with soap and water for at least 20 seconds.', 'Or use an alcohol-based hand sanitizer with at least 60% alcohol.', 'Cover your coughs and sneezes.', 'Cough or sneeze into a tissue or your elbow.', 'Then wash your hands.', 'Cough or sneeze into a tissue or your elbow.', 'Then wash your hands.', 'Clean and disinfect high-touch surfaces.', 'For example, clean doorknobs, light switches, electronics and counters regularly.', 'Try to spread out in crowded public areas, especially in places with poor airflow.', 'This is important if you have a higher risk of serious illness.', \"The CDC recommends that people wear a mask in indoor public spaces if you're in an area with a high number of people with COVID-19 in the hospital.\", \"They suggest wearing the most protective mask possible that you'll wear regularly, that fits well and is comfortable.\", 'Travel and COVID-19\\n\\nTravel brings people together from areas where illnesses may be at higher levels.', 'Masks can help slow the spread of respiratory diseases in general, including COVID-19 .', 'Masks help the most in places with low air flow and where you are in close contact with other people.', 'Also, masks can help if the places you travel to or through have a high level of illness.']\n"
          ]
        }
      ]
    },
    {
      "cell_type": "code",
      "source": [
        "#Now, Creating a function to return a random greeting respomse\n",
        "def greeting_response(text):\n",
        "   text = text.lower()\n",
        "   #Bots response\n",
        "   bot_greetings =  ['Assalam-o-Alaikum', 'Mohataram', 'Hello', 'Hi', 'Hola', 'How are you doin?']\n",
        "   #Users Response\n",
        "   user_greetings = ['Waalaikum-Assalam', 'Hello', 'Howdy', 'Wassup', 'Hola', 'I am doing good']\n",
        "\n",
        "   for word in text.split():\n",
        "    if word in user_greetings:\n",
        "      return random.choice(bot_greetings)\n"
      ],
      "metadata": {
        "id": "fCiw2mOHM5uc"
      },
      "execution_count": 36,
      "outputs": []
    },
    {
      "cell_type": "code",
      "source": [
        "def index_sort(list_var):\n",
        "  length = len(list_var)\n",
        "  list_index = list(range(0, length))\n",
        "  x = list_var\n",
        "  for i in range(length):\n",
        "    for j in range(length):\n",
        "      if x[list_index[i]] > x[list_index[j]]:\n",
        "        temp = list_index[i]              #swap\n",
        "        list_index[i] = list_index[j]\n",
        "        list_index[j] = temp\n",
        "        return list_index"
      ],
      "metadata": {
        "id": "Ppq4PirpVdvR"
      },
      "execution_count": 37,
      "outputs": []
    },
    {
      "cell_type": "code",
      "source": [
        "# Creating the bot's response\n",
        "def bot_response(user_input):\n",
        "    user_input = user_input.lower()\n",
        "    sentence_list.append(user_input)\n",
        "    bot_response = ''\n",
        "    cm = CountVectorizer().fit_transform(sentence_list)\n",
        "    similarity_scores = cosine_similarity(cm[-1], cm)\n",
        "    similarity_scores_list = similarity_scores.flatten()\n",
        "    index = index_sort(similarity_scores_list)  # Index will contain the indices sorted for the highest values and similarity scores\n",
        "    index = index[1:]\n",
        "    response_flag = 0\n",
        "\n",
        "    j = 0\n",
        "    for i in range(len(index)):\n",
        "        if similarity_scores_list[index[i]] > 0.0:\n",
        "            bot_response = bot_response + ' ' + sentence_list[index[i]]\n",
        "            response_flag = 1\n",
        "            j = j + 1\n",
        "        if j > 2:\n",
        "            break\n",
        "\n",
        "    if response_flag == 0:\n",
        "        bot_response = bot_response + ' ' + \"I don't understand at this point.\"\n",
        "        sentence_list.remove(user_input)\n",
        "\n",
        "    return bot_response\n"
      ],
      "metadata": {
        "id": "Xm4IzL3uQOld"
      },
      "execution_count": 59,
      "outputs": []
    },
    {
      "cell_type": "code",
      "source": [
        "#Starting the Chat with our SMART BOT\n",
        "print('Doc Bot: Hi, I am Doctor Bot for short. I will try to answer all of your queries regarding COVID-19. If you want to exit this chat, type bye')\n",
        "\n",
        "exit_list = ['Exit', 'See you Later, Alligator', 'Bye-Bye', 'break', 'Taaaaa-ta']\n",
        "\n",
        "while True:\n",
        "    user_input = input()\n",
        "    if user_input.lower() in exit_list:\n",
        "\n",
        "        print('Doc Bot: Chat with you later!')\n",
        "        break\n",
        "    else:\n",
        "        if greeting_response(user_input) is not None:\n",
        "            print('Doc Bot: ' + greeting_response(user_input))\n",
        "        else:\n",
        "            print('Doc Bot: ' + bot_response(user_input))\n"
      ],
      "metadata": {
        "colab": {
          "base_uri": "https://localhost:8080/"
        },
        "id": "51mme-NFtrdJ",
        "outputId": "7aa6ccf9-c1f7-458f-a1d7-efbc37fdfa69"
      },
      "execution_count": null,
      "outputs": [
        {
          "output_type": "stream",
          "name": "stdout",
          "text": [
            "Doc Bot: Hi, I am Doctor Bot for short. I will try to answer all of your queries regarding COVID-19. If you want to exit this chat, type bye\n"
          ]
        }
      ]
    },
    {
      "cell_type": "code",
      "source": [],
      "metadata": {
        "id": "cUav_AfTt31_"
      },
      "execution_count": null,
      "outputs": []
    }
  ]
}