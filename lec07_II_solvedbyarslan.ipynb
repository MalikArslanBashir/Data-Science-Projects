{
  "cells": [
    {
      "cell_type": "markdown",
      "metadata": {
        "id": "view-in-github",
        "colab_type": "text"
      },
      "source": [
        "<a href=\"https://colab.research.google.com/github/MalikArslanBashir/Data-Science-Tasks/blob/main/lec07_II_solvedbyarslan.ipynb\" target=\"_parent\"><img src=\"https://colab.research.google.com/assets/colab-badge.svg\" alt=\"Open In Colab\"/></a>"
      ]
    },
    {
      "cell_type": "markdown",
      "metadata": {
        "id": "Wid8A25p1gtI"
      },
      "source": [
        "# Text Wrangling and Regex\n",
        "\n",
        "Working with text: applying string methods and regular expressions"
      ]
    },
    {
      "cell_type": "code",
      "execution_count": null,
      "metadata": {
        "id": "9IpmMuA31rxp"
      },
      "outputs": [],
      "source": [
        "#from google.colab import drive\n",
        "#drive.mount('/content/drive')"
      ]
    },
    {
      "cell_type": "code",
      "execution_count": null,
      "metadata": {
        "ExecuteTime": {
          "end_time": "2018-02-02T15:15:15.363920Z",
          "start_time": "2018-02-02T15:15:14.337886Z"
        },
        "id": "dXZ5X0Yl1gtM"
      },
      "outputs": [],
      "source": [
        "import matplotlib.pyplot as plt\n",
        "import numpy as np\n",
        "import pandas as pd\n",
        "import seaborn as sns\n",
        "import zipfile\n",
        "import pandas as pd"
      ]
    },
    {
      "cell_type": "markdown",
      "metadata": {
        "id": "fa10dkWs1gtO"
      },
      "source": [
        "## Demo 1: Canonicalizing County Names"
      ]
    },
    {
      "cell_type": "markdown",
      "metadata": {
        "id": "tG6DdsuwCT_2"
      },
      "source": [
        "Load both **county_and_state.csv** and **county_and_population.csv**"
      ]
    },
    {
      "cell_type": "code",
      "execution_count": null,
      "metadata": {
        "id": "fj1lHsMP1gtO",
        "outputId": "056a8045-6357-477b-e4e5-6782fd1ed74e"
      },
      "outputs": [
        {
          "data": {
            "text/html": [
              "<div>\n",
              "<style scoped>\n",
              "    .dataframe tbody tr th:only-of-type {\n",
              "        vertical-align: middle;\n",
              "    }\n",
              "\n",
              "    .dataframe tbody tr th {\n",
              "        vertical-align: top;\n",
              "    }\n",
              "\n",
              "    .dataframe thead th {\n",
              "        text-align: right;\n",
              "    }\n",
              "</style>\n",
              "<table border=\"1\" class=\"dataframe\">\n",
              "  <thead>\n",
              "    <tr style=\"text-align: right;\">\n",
              "      <th></th>\n",
              "      <th>County</th>\n",
              "      <th>State</th>\n",
              "    </tr>\n",
              "  </thead>\n",
              "  <tbody>\n",
              "    <tr>\n",
              "      <th>0</th>\n",
              "      <td>De Witt County</td>\n",
              "      <td>IL</td>\n",
              "    </tr>\n",
              "    <tr>\n",
              "      <th>1</th>\n",
              "      <td>Lac qui Parle County</td>\n",
              "      <td>MN</td>\n",
              "    </tr>\n",
              "    <tr>\n",
              "      <th>2</th>\n",
              "      <td>Lewis and Clark County</td>\n",
              "      <td>MT</td>\n",
              "    </tr>\n",
              "    <tr>\n",
              "      <th>3</th>\n",
              "      <td>St John the Baptist Parish</td>\n",
              "      <td>LS</td>\n",
              "    </tr>\n",
              "  </tbody>\n",
              "</table>\n",
              "</div>"
            ],
            "text/plain": [
              "                       County State\n",
              "0              De Witt County    IL\n",
              "1        Lac qui Parle County    MN\n",
              "2      Lewis and Clark County    MT\n",
              "3  St John the Baptist Parish    LS"
            ]
          },
          "execution_count": 63,
          "metadata": {},
          "output_type": "execute_result"
        }
      ],
      "source": [
        "#code Here\n",
        "state = pd.read_csv(r'C:\\Users\\dell\\Downloads\\county_and_state.csv')\n",
        "population = pd.read_csv(r'C:\\Users\\dell\\Downloads\\county_and_population.csv')\n",
        "\n",
        "\n",
        "# display both frames, display allows us to view a DataFrame without returning it as an object\n",
        "#Code Here\n",
        "state\n"
      ]
    },
    {
      "cell_type": "code",
      "execution_count": null,
      "metadata": {
        "id": "KdgD6drVnt3W",
        "outputId": "6c5f4595-ce8d-4057-c33a-6307fa262bdd"
      },
      "outputs": [
        {
          "data": {
            "text/html": [
              "<div>\n",
              "<style scoped>\n",
              "    .dataframe tbody tr th:only-of-type {\n",
              "        vertical-align: middle;\n",
              "    }\n",
              "\n",
              "    .dataframe tbody tr th {\n",
              "        vertical-align: top;\n",
              "    }\n",
              "\n",
              "    .dataframe thead th {\n",
              "        text-align: right;\n",
              "    }\n",
              "</style>\n",
              "<table border=\"1\" class=\"dataframe\">\n",
              "  <thead>\n",
              "    <tr style=\"text-align: right;\">\n",
              "      <th></th>\n",
              "      <th>County</th>\n",
              "      <th>Population</th>\n",
              "    </tr>\n",
              "  </thead>\n",
              "  <tbody>\n",
              "    <tr>\n",
              "      <th>0</th>\n",
              "      <td>DeWitt</td>\n",
              "      <td>16798</td>\n",
              "    </tr>\n",
              "    <tr>\n",
              "      <th>1</th>\n",
              "      <td>Lac Qui Parle</td>\n",
              "      <td>8067</td>\n",
              "    </tr>\n",
              "    <tr>\n",
              "      <th>2</th>\n",
              "      <td>Lewis &amp; Clark</td>\n",
              "      <td>55716</td>\n",
              "    </tr>\n",
              "    <tr>\n",
              "      <th>3</th>\n",
              "      <td>St. John the Baptist</td>\n",
              "      <td>43044</td>\n",
              "    </tr>\n",
              "  </tbody>\n",
              "</table>\n",
              "</div>"
            ],
            "text/plain": [
              "                 County  Population\n",
              "0                DeWitt       16798\n",
              "1         Lac Qui Parle        8067\n",
              "2         Lewis & Clark       55716\n",
              "3  St. John the Baptist       43044"
            ]
          },
          "execution_count": 64,
          "metadata": {},
          "output_type": "execute_result"
        }
      ],
      "source": [
        "population"
      ]
    },
    {
      "cell_type": "markdown",
      "metadata": {
        "id": "tbQUqp5s1gtP"
      },
      "source": [
        "Both of these DataFrames share a \"County\" column. Unfortunately, formatting differences mean that we can't directly merge the two DataFrames using the \"County\"s."
      ]
    },
    {
      "cell_type": "code",
      "execution_count": null,
      "metadata": {
        "id": "CNITf5LB1gtQ",
        "outputId": "d0ba9797-d8c9-49ed-86f2-83a332e40906"
      },
      "outputs": [
        {
          "data": {
            "text/html": [
              "<div>\n",
              "<style scoped>\n",
              "    .dataframe tbody tr th:only-of-type {\n",
              "        vertical-align: middle;\n",
              "    }\n",
              "\n",
              "    .dataframe tbody tr th {\n",
              "        vertical-align: top;\n",
              "    }\n",
              "\n",
              "    .dataframe thead th {\n",
              "        text-align: right;\n",
              "    }\n",
              "</style>\n",
              "<table border=\"1\" class=\"dataframe\">\n",
              "  <thead>\n",
              "    <tr style=\"text-align: right;\">\n",
              "      <th></th>\n",
              "      <th>County</th>\n",
              "      <th>State</th>\n",
              "      <th>Population</th>\n",
              "    </tr>\n",
              "  </thead>\n",
              "  <tbody>\n",
              "  </tbody>\n",
              "</table>\n",
              "</div>"
            ],
            "text/plain": [
              "Empty DataFrame\n",
              "Columns: [County, State, Population]\n",
              "Index: []"
            ]
          },
          "execution_count": 65,
          "metadata": {},
          "output_type": "execute_result"
        }
      ],
      "source": [
        "#merge both frames\n",
        "merged_df = pd.merge(state, population, left_on='County', right_on='County')\n",
        "merged_df"
      ]
    },
    {
      "cell_type": "markdown",
      "metadata": {
        "id": "8i5za0cy1gtQ"
      },
      "source": [
        "To address this, we can **canonicalize** the \"County\" string data to apply a common formatting."
      ]
    },
    {
      "cell_type": "code",
      "execution_count": null,
      "metadata": {
        "id": "q8iN6UIc1gtR"
      },
      "outputs": [],
      "source": [
        "def canonicalize_county(county_series):\n",
        " return (county_series.str.lower().str.replace(' ', '').str.replace('&', 'and').str.replace('.', '').str.replace('county', '').str.replace('parish', ''))\n",
        "                                                                        # remove space\n",
        "                                                                          # replace &\n",
        "                                                                            # remove dot\n",
        "                                                                            # remove \"county\"\n",
        "                                                                             # remove \"parish\"\n"
      ]
    },
    {
      "cell_type": "markdown",
      "metadata": {
        "id": "qObObz6_DbOJ"
      },
      "source": [
        "Apply canonicalize_county on 'County' columns in both frames."
      ]
    },
    {
      "cell_type": "code",
      "execution_count": null,
      "metadata": {
        "id": "uwkLYhdn1gtT",
        "outputId": "a46e70ef-5c6a-466b-e9ce-cfbda9664095"
      },
      "outputs": [
        {
          "name": "stdout",
          "output_type": "stream",
          "text": [
            "             County  Population\n",
            "0            dewitt       16798\n",
            "1       lacquiparle        8067\n",
            "2     lewisandclark       55716\n",
            "3  stjohnthebaptist       43044\n"
          ]
        },
        {
          "name": "stderr",
          "output_type": "stream",
          "text": [
            "C:\\Users\\dell\\AppData\\Local\\Temp\\ipykernel_7336\\3853979773.py:2: FutureWarning: The default value of regex will change from True to False in a future version. In addition, single character regular expressions will *not* be treated as literal strings when regex=True.\n",
            "  return (county_series.str.lower().str.replace(' ', '').str.replace('&', 'and').str.replace('.', '').str.replace('county', '').str.replace('parish', ''))\n"
          ]
        },
        {
          "data": {
            "text/html": [
              "<div>\n",
              "<style scoped>\n",
              "    .dataframe tbody tr th:only-of-type {\n",
              "        vertical-align: middle;\n",
              "    }\n",
              "\n",
              "    .dataframe tbody tr th {\n",
              "        vertical-align: top;\n",
              "    }\n",
              "\n",
              "    .dataframe thead th {\n",
              "        text-align: right;\n",
              "    }\n",
              "</style>\n",
              "<table border=\"1\" class=\"dataframe\">\n",
              "  <thead>\n",
              "    <tr style=\"text-align: right;\">\n",
              "      <th></th>\n",
              "      <th>County</th>\n",
              "      <th>State</th>\n",
              "    </tr>\n",
              "  </thead>\n",
              "  <tbody>\n",
              "    <tr>\n",
              "      <th>0</th>\n",
              "      <td>dewitt</td>\n",
              "      <td>IL</td>\n",
              "    </tr>\n",
              "    <tr>\n",
              "      <th>1</th>\n",
              "      <td>lacquiparle</td>\n",
              "      <td>MN</td>\n",
              "    </tr>\n",
              "    <tr>\n",
              "      <th>2</th>\n",
              "      <td>lewisandclark</td>\n",
              "      <td>MT</td>\n",
              "    </tr>\n",
              "    <tr>\n",
              "      <th>3</th>\n",
              "      <td>stjohnthebaptist</td>\n",
              "      <td>LS</td>\n",
              "    </tr>\n",
              "  </tbody>\n",
              "</table>\n",
              "</div>"
            ],
            "text/plain": [
              "             County State\n",
              "0            dewitt    IL\n",
              "1       lacquiparle    MN\n",
              "2     lewisandclark    MT\n",
              "3  stjohnthebaptist    LS"
            ]
          },
          "execution_count": 75,
          "metadata": {},
          "output_type": "execute_result"
        }
      ],
      "source": [
        "population['County'] =canonicalize_county(population['County'])\n",
        "state['County'] =canonicalize_county(state['County'])\n",
        "\n",
        "# Code Here\n",
        "print(population)\n",
        "state"
      ]
    },
    {
      "cell_type": "markdown",
      "metadata": {
        "id": "_AYrt2mh1gtT"
      },
      "source": [
        "Now, the merge works as expected!"
      ]
    },
    {
      "cell_type": "code",
      "execution_count": null,
      "metadata": {
        "id": "T0XsMuwK1gtU",
        "outputId": "a84d2202-c7dd-425d-97f6-0a2644ef2f78"
      },
      "outputs": [
        {
          "data": {
            "text/html": [
              "<div>\n",
              "<style scoped>\n",
              "    .dataframe tbody tr th:only-of-type {\n",
              "        vertical-align: middle;\n",
              "    }\n",
              "\n",
              "    .dataframe tbody tr th {\n",
              "        vertical-align: top;\n",
              "    }\n",
              "\n",
              "    .dataframe thead th {\n",
              "        text-align: right;\n",
              "    }\n",
              "</style>\n",
              "<table border=\"1\" class=\"dataframe\">\n",
              "  <thead>\n",
              "    <tr style=\"text-align: right;\">\n",
              "      <th></th>\n",
              "      <th>County</th>\n",
              "      <th>State</th>\n",
              "      <th>Population</th>\n",
              "    </tr>\n",
              "  </thead>\n",
              "  <tbody>\n",
              "    <tr>\n",
              "      <th>0</th>\n",
              "      <td>dewitt</td>\n",
              "      <td>IL</td>\n",
              "      <td>16798</td>\n",
              "    </tr>\n",
              "    <tr>\n",
              "      <th>1</th>\n",
              "      <td>lacquiparle</td>\n",
              "      <td>MN</td>\n",
              "      <td>8067</td>\n",
              "    </tr>\n",
              "    <tr>\n",
              "      <th>2</th>\n",
              "      <td>lewisandclark</td>\n",
              "      <td>MT</td>\n",
              "      <td>55716</td>\n",
              "    </tr>\n",
              "    <tr>\n",
              "      <th>3</th>\n",
              "      <td>stjohnthebaptist</td>\n",
              "      <td>LS</td>\n",
              "      <td>43044</td>\n",
              "    </tr>\n",
              "  </tbody>\n",
              "</table>\n",
              "</div>"
            ],
            "text/plain": [
              "             County State  Population\n",
              "0            dewitt    IL       16798\n",
              "1       lacquiparle    MN        8067\n",
              "2     lewisandclark    MT       55716\n",
              "3  stjohnthebaptist    LS       43044"
            ]
          },
          "execution_count": 76,
          "metadata": {},
          "output_type": "execute_result"
        }
      ],
      "source": [
        "# code Here\n",
        "merge_df = pd.merge(state, population, left_on='County', right_on='County')\n",
        "merge_df\n"
      ]
    },
    {
      "cell_type": "markdown",
      "metadata": {
        "id": "pbhoiuSU1gtU"
      },
      "source": [
        "## Demo 2: Extracting Log Data"
      ]
    },
    {
      "cell_type": "markdown",
      "metadata": {
        "id": "cVsLg_znDyfi"
      },
      "source": [
        "Load log.txt"
      ]
    },
    {
      "cell_type": "code",
      "execution_count": null,
      "metadata": {
        "id": "OXZiq-xr1gtV",
        "outputId": "1db57e25-caa6-4cfb-b252-cfe5409e98da"
      },
      "outputs": [
        {
          "data": {
            "text/html": [
              "<div>\n",
              "<style scoped>\n",
              "    .dataframe tbody tr th:only-of-type {\n",
              "        vertical-align: middle;\n",
              "    }\n",
              "\n",
              "    .dataframe tbody tr th {\n",
              "        vertical-align: top;\n",
              "    }\n",
              "\n",
              "    .dataframe thead th {\n",
              "        text-align: right;\n",
              "    }\n",
              "</style>\n",
              "<table border=\"1\" class=\"dataframe\">\n",
              "  <thead>\n",
              "    <tr style=\"text-align: right;\">\n",
              "      <th></th>\n",
              "      <th>169.237.46.168 - - [26/Jan/2014:10:47:58 -0800] \"GET /stat141/Winter04/ HTTP/1.1\" 200 2585 \"http://anson.ucdavis.edu/courses/\"</th>\n",
              "    </tr>\n",
              "  </thead>\n",
              "  <tbody>\n",
              "    <tr>\n",
              "      <th>0</th>\n",
              "      <td>193.205.203.3 - - [2/Feb/2005:17:23:6 -0800] \"...</td>\n",
              "    </tr>\n",
              "    <tr>\n",
              "      <th>1</th>\n",
              "      <td>169.237.46.240 - \"\" [3/Feb/2006:10:18:37 -0800...</td>\n",
              "    </tr>\n",
              "  </tbody>\n",
              "</table>\n",
              "</div>"
            ],
            "text/plain": [
              "  169.237.46.168 - - [26/Jan/2014:10:47:58 -0800] \"GET /stat141/Winter04/ HTTP/1.1\" 200 2585 \"http://anson.ucdavis.edu/courses/\"\n",
              "0  193.205.203.3 - - [2/Feb/2005:17:23:6 -0800] \"...                                                                            \n",
              "1  169.237.46.240 - \"\" [3/Feb/2006:10:18:37 -0800...                                                                            "
            ]
          },
          "execution_count": 26,
          "metadata": {},
          "output_type": "execute_result"
        }
      ],
      "source": [
        "import re\n",
        "pd.read_table(r'C:\\Users\\dell\\Downloads\\log.txt', delimiter='/t', engine='python')"
      ]
    },
    {
      "cell_type": "markdown",
      "metadata": {
        "id": "fHAf4WxQ1gtV"
      },
      "source": [
        "Suppose we want to extract the day, month, year, hour, minutes, seconds, and timezone. Looking at the data, we see that these items are not in a fixed position relative to the beginning of the string. That is, slicing by some fixed offset isn't going to work."
      ]
    },
    {
      "cell_type": "code",
      "execution_count": null,
      "metadata": {
        "id": "kFqcwF8p1gtV"
      },
      "outputs": [],
      "source": [
        "# code here\n",
        "logs = []\n",
        "with open(r'C:\\Users\\dell\\Downloads\\log.txt') as logs_file:\n",
        "  for i, line in enumerate(logs_file):\n",
        "    logs.append(line)"
      ]
    },
    {
      "cell_type": "code",
      "execution_count": null,
      "metadata": {
        "id": "hMxPUYCAnt3i",
        "outputId": "67273203-e88e-4f33-d62a-683eb7f0a433"
      },
      "outputs": [
        {
          "data": {
            "text/plain": [
              "['169.237.46.168 - - [26/Jan/2014:10:47:58 -0800] \"GET /stat141/Winter04/ HTTP/1.1\" 200 2585 \"http://anson.ucdavis.edu/courses/\"\\n',\n",
              " '193.205.203.3 - - [2/Feb/2005:17:23:6 -0800] \"GET /stat141/Notes/dim.html HTTP/1.0\" 404 302 \"http://eeyore.ucdavis.edu/stat141/Notes/session.html\"\\n',\n",
              " '169.237.46.240 - \"\" [3/Feb/2006:10:18:37 -0800] \"GET /stat141/homework/Solutions/hw1Sol.pdf HTTP/1.1\"\\n']"
            ]
          },
          "execution_count": 3,
          "metadata": {},
          "output_type": "execute_result"
        }
      ],
      "source": [
        "logs"
      ]
    },
    {
      "cell_type": "code",
      "execution_count": null,
      "metadata": {
        "id": "TIQkWfdDnt3i",
        "outputId": "45b019b2-330e-4dbd-c167-66056d64aa75"
      },
      "outputs": [
        {
          "data": {
            "text/plain": [
              "3"
            ]
          },
          "execution_count": 4,
          "metadata": {},
          "output_type": "execute_result"
        }
      ],
      "source": [
        "len(logs)"
      ]
    },
    {
      "cell_type": "code",
      "execution_count": null,
      "metadata": {
        "id": "F5Xb-ZAQnt3j",
        "outputId": "c02a79da-b0fb-4cd7-9e96-349ae55191a6"
      },
      "outputs": [
        {
          "data": {
            "text/plain": [
              "'169.237.46.168 - - [26/Jan/2014:10:47:58 -0800] \"GET /stat141/Winter04/ HTTP/1.1\" 200 2585 \"http://anson.ucdavis.edu/courses/\"\\n'"
            ]
          },
          "execution_count": 5,
          "metadata": {},
          "output_type": "execute_result"
        }
      ],
      "source": [
        "logs[0]"
      ]
    },
    {
      "cell_type": "code",
      "execution_count": null,
      "metadata": {
        "id": "gXmaGWxa1gtV",
        "outputId": "29812fd3-68ab-4422-be13-438109de737c"
      },
      "outputs": [
        {
          "name": "stdout",
          "output_type": "stream",
          "text": [
            "26/Jan/2014:10:47:58 -0800\n",
            "/Feb/2005:17:23:6 -0800] \"\n",
            "[3/Feb/2006:10:18:37 -0800\n"
          ]
        }
      ],
      "source": [
        "# code here\n",
        "#with string slicing\n",
        "for i in range(0, len(logs)):\n",
        "  print(logs[i][20:46])"
      ]
    },
    {
      "cell_type": "code",
      "execution_count": null,
      "metadata": {
        "id": "E-44kxRZnt3k",
        "outputId": "d2d1f8d0-152a-4713-e6e5-793f4a05e010"
      },
      "outputs": [
        {
          "name": "stdout",
          "output_type": "stream",
          "text": [
            "26/Jan/2014:10:47:58 -0800\n",
            "2/Feb/2005:17:23:6 -0800\n",
            "3/Feb/2006:10:18:37 -0800\n"
          ]
        }
      ],
      "source": [
        "#with built in split\n",
        "# code here\n",
        "for i in range(0, len(logs)):\n",
        "  print(logs[i].split('[')[1].split(']')[0])"
      ]
    },
    {
      "cell_type": "markdown",
      "metadata": {
        "id": "ozFcMAdw1gtW"
      },
      "source": [
        "Instead, we'll need to use some more sophisticated thinking. Let's focus on only the first line of the file."
      ]
    },
    {
      "cell_type": "code",
      "execution_count": null,
      "metadata": {
        "id": "atDXatC_1gtW"
      },
      "outputs": [],
      "source": [
        "# code here"
      ]
    },
    {
      "cell_type": "markdown",
      "metadata": {
        "id": "in8F8eohEYf6"
      },
      "source": [
        "Apply string functions of python to extract date from first entry in log file."
      ]
    },
    {
      "cell_type": "code",
      "execution_count": null,
      "metadata": {
        "id": "1FHZcciJ1gtW",
        "tags": [],
        "outputId": "91ef78ed-0b08-4525-ed7f-5d2d1c8eb54a"
      },
      "outputs": [
        {
          "name": "stdout",
          "output_type": "stream",
          "text": [
            "26 Jan 2014 10 47 58 -0800\n",
            "2 Feb 2005 17 23 6 -0800\n",
            "3 Feb 2006 10 18 37 -0800\n"
          ]
        }
      ],
      "source": [
        "# find the text enclosed in square brackets\n",
        "# split up the date/month/year\n",
        "# split up the hour:minute:second\n",
        "# split the timezone after the blank space\n",
        "\n",
        "#with built in split\n",
        "# code here\n",
        "for i in range(0, len(logs)):\n",
        "  day, month, other = logs[i].split('[')[1].split(']')[0].split('/')\n",
        "  year, hour, min, other = other.split(':')\n",
        "  sec, tz = other.split(' ')\n",
        "  print(day, month, year, hour, min, sec, tz)\n"
      ]
    },
    {
      "cell_type": "markdown",
      "metadata": {
        "id": "zGmUwCfI1gtW"
      },
      "source": [
        "This worked, but felt fairly \"hacky\" – the code above isn't particularly elegant. A much more sophisticated but common approach is to extract the information we need using a *regular expression*."
      ]
    },
    {
      "cell_type": "markdown",
      "metadata": {
        "id": "9rIyB9P01gtX"
      },
      "source": [
        "\n",
        "# Regular Expressions"
      ]
    },
    {
      "cell_type": "markdown",
      "metadata": {
        "id": "5pJq1SPn1gtX",
        "tags": []
      },
      "source": [
        "\n",
        "## String Extraction with Regex\n",
        "\n",
        "Python `re.findall` returns a list of all extracted matches: extract numbers from given string."
      ]
    },
    {
      "cell_type": "code",
      "execution_count": null,
      "metadata": {
        "id": "VGUYXvzd1gtX",
        "outputId": "aa03c29e-eaba-43e8-85cd-ece69142b03d"
      },
      "outputs": [
        {
          "data": {
            "text/plain": [
              "['123', '45', '6789', '321', '45', '6789']"
            ]
          },
          "execution_count": 9,
          "metadata": {},
          "output_type": "execute_result"
        }
      ],
      "source": [
        "import re\n",
        "\n",
        "text = \"My social security number is 123-45-6789 bro, or actually maybe it’s 321-45-6789.\";\n",
        "# code Here\n",
        "re.findall(r'[0-9]+', text)"
      ]
    },
    {
      "cell_type": "markdown",
      "metadata": {
        "id": "pTRXy0cD1gtX"
      },
      "source": [
        "<br/>\n",
        "\n",
        "Now, let's see vectorized extraction in `pandas`:"
      ]
    },
    {
      "cell_type": "markdown",
      "metadata": {
        "id": "94nhVmeA1gtX"
      },
      "source": [
        " `.str.findall` returns a `Series` of lists of all matches in each record."
      ]
    },
    {
      "cell_type": "code",
      "execution_count": null,
      "metadata": {
        "id": "vbW_2pPU1gtY"
      },
      "outputs": [],
      "source": [
        "import pandas as pd\n",
        "data = ['987-65-4321','forty','123-45-6789 bro or 321-45-6789','999-99-9999']\n",
        "# code here\n",
        "df = pd.DataFrame(data)"
      ]
    },
    {
      "cell_type": "code",
      "execution_count": null,
      "metadata": {
        "id": "O1M1OCDCnt3o",
        "outputId": "ebc03d4c-f5ff-42e7-a48d-7361409a4dcc"
      },
      "outputs": [
        {
          "data": {
            "text/plain": [
              "0                   [987, 65, 4321]\n",
              "1                                []\n",
              "2    [123, 45, 6789, 321, 45, 6789]\n",
              "3                   [999, 99, 9999]\n",
              "Name: 0, dtype: object"
            ]
          },
          "execution_count": 16,
          "metadata": {},
          "output_type": "execute_result"
        }
      ],
      "source": [
        "df[0].str.findall(r'[0-9]+')"
      ]
    },
    {
      "cell_type": "markdown",
      "metadata": {
        "id": "67gCvGiqFggh"
      },
      "source": [
        "Find all entries containing numbers in dataframe."
      ]
    },
    {
      "cell_type": "code",
      "execution_count": null,
      "metadata": {
        "id": "ezP71f2w1gtY",
        "outputId": "5f55d94f-0e9e-4be3-e1ce-ea6bb350d42b"
      },
      "outputs": [
        {
          "data": {
            "text/html": [
              "<div>\n",
              "<style scoped>\n",
              "    .dataframe tbody tr th:only-of-type {\n",
              "        vertical-align: middle;\n",
              "    }\n",
              "\n",
              "    .dataframe tbody tr th {\n",
              "        vertical-align: top;\n",
              "    }\n",
              "\n",
              "    .dataframe thead th {\n",
              "        text-align: right;\n",
              "    }\n",
              "</style>\n",
              "<table border=\"1\" class=\"dataframe\">\n",
              "  <thead>\n",
              "    <tr style=\"text-align: right;\">\n",
              "      <th></th>\n",
              "      <th>0</th>\n",
              "    </tr>\n",
              "  </thead>\n",
              "  <tbody>\n",
              "    <tr>\n",
              "      <th>0</th>\n",
              "      <td>987-65-4321</td>\n",
              "    </tr>\n",
              "    <tr>\n",
              "      <th>2</th>\n",
              "      <td>123-45-6789 bro or 321-45-6789</td>\n",
              "    </tr>\n",
              "    <tr>\n",
              "      <th>3</th>\n",
              "      <td>999-99-9999</td>\n",
              "    </tr>\n",
              "  </tbody>\n",
              "</table>\n",
              "</div>"
            ],
            "text/plain": [
              "                                0\n",
              "0                     987-65-4321\n",
              "2  123-45-6789 bro or 321-45-6789\n",
              "3                     999-99-9999"
            ]
          },
          "execution_count": 17,
          "metadata": {},
          "output_type": "execute_result"
        }
      ],
      "source": [
        "# -> Series of lists\n",
        "# code Here\n",
        "df[~(df[0].str.isalnum())]"
      ]
    },
    {
      "cell_type": "markdown",
      "metadata": {
        "id": "Pcrk9IOJ1gtY"
      },
      "source": [
        "## Extraction Using Regex Capture Groups"
      ]
    },
    {
      "cell_type": "markdown",
      "metadata": {
        "id": "25EEWvE01gtY"
      },
      "source": [
        "The Python function `re.findall`, in combination with parentheses returns specific substrings (i.e., **capture groups**) within each matched string, or **match**."
      ]
    },
    {
      "cell_type": "code",
      "execution_count": null,
      "metadata": {
        "id": "rPObO6d-1gtY"
      },
      "outputs": [],
      "source": [
        "text = \"\"\"I will meet you at 08:30:00 pm tomorrow\"\"\"\n",
        "# code here\n",
        "matches = re.findall(r'([0-9]{2}):([0-9]{2}):([0-9]{2})', text)"
      ]
    },
    {
      "cell_type": "code",
      "execution_count": null,
      "metadata": {
        "id": "nUASAAT81gtZ",
        "outputId": "790b4e0d-299e-4364-c68d-4c8d2a069635"
      },
      "outputs": [
        {
          "name": "stdout",
          "output_type": "stream",
          "text": [
            "08 30 00\n"
          ]
        }
      ],
      "source": [
        "# the three capture groups in the first matched string\n",
        "hour, minute, second = matches[0]\n",
        "print(hour, minute, second)"
      ]
    },
    {
      "cell_type": "markdown",
      "metadata": {
        "id": "IniHBU1r1gtZ"
      },
      "source": [
        "<br/>\n",
        "\n",
        "In `pandas`, we can use `.str.extract` to extract each capture group of **only the first match** of each record into separate columns."
      ]
    },
    {
      "cell_type": "code",
      "execution_count": null,
      "metadata": {
        "colab": {
          "base_uri": "https://localhost:8080/",
          "height": 175
        },
        "id": "NlwASaaC1gtZ",
        "outputId": "ac6145ca-ca9d-4d1d-cecd-4813671268b9"
      },
      "outputs": [
        {
          "data": {
            "text/html": [
              "\n",
              "  <div id=\"df-2017a3f4-c965-491a-a6e3-e7aa2779ea40\" class=\"colab-df-container\">\n",
              "    <div>\n",
              "<style scoped>\n",
              "    .dataframe tbody tr th:only-of-type {\n",
              "        vertical-align: middle;\n",
              "    }\n",
              "\n",
              "    .dataframe tbody tr th {\n",
              "        vertical-align: top;\n",
              "    }\n",
              "\n",
              "    .dataframe thead th {\n",
              "        text-align: right;\n",
              "    }\n",
              "</style>\n",
              "<table border=\"1\" class=\"dataframe\">\n",
              "  <thead>\n",
              "    <tr style=\"text-align: right;\">\n",
              "      <th></th>\n",
              "      <th>SSN</th>\n",
              "    </tr>\n",
              "  </thead>\n",
              "  <tbody>\n",
              "    <tr>\n",
              "      <th>0</th>\n",
              "      <td>987-65-4321</td>\n",
              "    </tr>\n",
              "    <tr>\n",
              "      <th>1</th>\n",
              "      <td>forty</td>\n",
              "    </tr>\n",
              "    <tr>\n",
              "      <th>2</th>\n",
              "      <td>123-45-6789 bro or 321-45-6789</td>\n",
              "    </tr>\n",
              "    <tr>\n",
              "      <th>3</th>\n",
              "      <td>999-99-9999</td>\n",
              "    </tr>\n",
              "  </tbody>\n",
              "</table>\n",
              "</div>\n",
              "    <div class=\"colab-df-buttons\">\n",
              "\n",
              "  <div class=\"colab-df-container\">\n",
              "    <button class=\"colab-df-convert\" onclick=\"convertToInteractive('df-2017a3f4-c965-491a-a6e3-e7aa2779ea40')\"\n",
              "            title=\"Convert this dataframe to an interactive table.\"\n",
              "            style=\"display:none;\">\n",
              "\n",
              "  <svg xmlns=\"http://www.w3.org/2000/svg\" height=\"24px\" viewBox=\"0 -960 960 960\">\n",
              "    <path d=\"M120-120v-720h720v720H120Zm60-500h600v-160H180v160Zm220 220h160v-160H400v160Zm0 220h160v-160H400v160ZM180-400h160v-160H180v160Zm440 0h160v-160H620v160ZM180-180h160v-160H180v160Zm440 0h160v-160H620v160Z\"/>\n",
              "  </svg>\n",
              "    </button>\n",
              "\n",
              "  <style>\n",
              "    .colab-df-container {\n",
              "      display:flex;\n",
              "      gap: 12px;\n",
              "    }\n",
              "\n",
              "    .colab-df-convert {\n",
              "      background-color: #E8F0FE;\n",
              "      border: none;\n",
              "      border-radius: 50%;\n",
              "      cursor: pointer;\n",
              "      display: none;\n",
              "      fill: #1967D2;\n",
              "      height: 32px;\n",
              "      padding: 0 0 0 0;\n",
              "      width: 32px;\n",
              "    }\n",
              "\n",
              "    .colab-df-convert:hover {\n",
              "      background-color: #E2EBFA;\n",
              "      box-shadow: 0px 1px 2px rgba(60, 64, 67, 0.3), 0px 1px 3px 1px rgba(60, 64, 67, 0.15);\n",
              "      fill: #174EA6;\n",
              "    }\n",
              "\n",
              "    .colab-df-buttons div {\n",
              "      margin-bottom: 4px;\n",
              "    }\n",
              "\n",
              "    [theme=dark] .colab-df-convert {\n",
              "      background-color: #3B4455;\n",
              "      fill: #D2E3FC;\n",
              "    }\n",
              "\n",
              "    [theme=dark] .colab-df-convert:hover {\n",
              "      background-color: #434B5C;\n",
              "      box-shadow: 0px 1px 3px 1px rgba(0, 0, 0, 0.15);\n",
              "      filter: drop-shadow(0px 1px 2px rgba(0, 0, 0, 0.3));\n",
              "      fill: #FFFFFF;\n",
              "    }\n",
              "  </style>\n",
              "\n",
              "    <script>\n",
              "      const buttonEl =\n",
              "        document.querySelector('#df-2017a3f4-c965-491a-a6e3-e7aa2779ea40 button.colab-df-convert');\n",
              "      buttonEl.style.display =\n",
              "        google.colab.kernel.accessAllowed ? 'block' : 'none';\n",
              "\n",
              "      async function convertToInteractive(key) {\n",
              "        const element = document.querySelector('#df-2017a3f4-c965-491a-a6e3-e7aa2779ea40');\n",
              "        const dataTable =\n",
              "          await google.colab.kernel.invokeFunction('convertToInteractive',\n",
              "                                                    [key], {});\n",
              "        if (!dataTable) return;\n",
              "\n",
              "        const docLinkHtml = 'Like what you see? Visit the ' +\n",
              "          '<a target=\"_blank\" href=https://colab.research.google.com/notebooks/data_table.ipynb>data table notebook</a>'\n",
              "          + ' to learn more about interactive tables.';\n",
              "        element.innerHTML = '';\n",
              "        dataTable['output_type'] = 'display_data';\n",
              "        await google.colab.output.renderOutput(dataTable, element);\n",
              "        const docLink = document.createElement('div');\n",
              "        docLink.innerHTML = docLinkHtml;\n",
              "        element.appendChild(docLink);\n",
              "      }\n",
              "    </script>\n",
              "  </div>\n",
              "\n",
              "\n",
              "<div id=\"df-b036e8b5-efca-4594-8e4e-bfa607ff3eeb\">\n",
              "  <button class=\"colab-df-quickchart\" onclick=\"quickchart('df-b036e8b5-efca-4594-8e4e-bfa607ff3eeb')\"\n",
              "            title=\"Suggest charts.\"\n",
              "            style=\"display:none;\">\n",
              "\n",
              "<svg xmlns=\"http://www.w3.org/2000/svg\" height=\"24px\"viewBox=\"0 0 24 24\"\n",
              "     width=\"24px\">\n",
              "    <g>\n",
              "        <path d=\"M19 3H5c-1.1 0-2 .9-2 2v14c0 1.1.9 2 2 2h14c1.1 0 2-.9 2-2V5c0-1.1-.9-2-2-2zM9 17H7v-7h2v7zm4 0h-2V7h2v10zm4 0h-2v-4h2v4z\"/>\n",
              "    </g>\n",
              "</svg>\n",
              "  </button>\n",
              "\n",
              "<style>\n",
              "  .colab-df-quickchart {\n",
              "      --bg-color: #E8F0FE;\n",
              "      --fill-color: #1967D2;\n",
              "      --hover-bg-color: #E2EBFA;\n",
              "      --hover-fill-color: #174EA6;\n",
              "      --disabled-fill-color: #AAA;\n",
              "      --disabled-bg-color: #DDD;\n",
              "  }\n",
              "\n",
              "  [theme=dark] .colab-df-quickchart {\n",
              "      --bg-color: #3B4455;\n",
              "      --fill-color: #D2E3FC;\n",
              "      --hover-bg-color: #434B5C;\n",
              "      --hover-fill-color: #FFFFFF;\n",
              "      --disabled-bg-color: #3B4455;\n",
              "      --disabled-fill-color: #666;\n",
              "  }\n",
              "\n",
              "  .colab-df-quickchart {\n",
              "    background-color: var(--bg-color);\n",
              "    border: none;\n",
              "    border-radius: 50%;\n",
              "    cursor: pointer;\n",
              "    display: none;\n",
              "    fill: var(--fill-color);\n",
              "    height: 32px;\n",
              "    padding: 0;\n",
              "    width: 32px;\n",
              "  }\n",
              "\n",
              "  .colab-df-quickchart:hover {\n",
              "    background-color: var(--hover-bg-color);\n",
              "    box-shadow: 0 1px 2px rgba(60, 64, 67, 0.3), 0 1px 3px 1px rgba(60, 64, 67, 0.15);\n",
              "    fill: var(--button-hover-fill-color);\n",
              "  }\n",
              "\n",
              "  .colab-df-quickchart-complete:disabled,\n",
              "  .colab-df-quickchart-complete:disabled:hover {\n",
              "    background-color: var(--disabled-bg-color);\n",
              "    fill: var(--disabled-fill-color);\n",
              "    box-shadow: none;\n",
              "  }\n",
              "\n",
              "  .colab-df-spinner {\n",
              "    border: 2px solid var(--fill-color);\n",
              "    border-color: transparent;\n",
              "    border-bottom-color: var(--fill-color);\n",
              "    animation:\n",
              "      spin 1s steps(1) infinite;\n",
              "  }\n",
              "\n",
              "  @keyframes spin {\n",
              "    0% {\n",
              "      border-color: transparent;\n",
              "      border-bottom-color: var(--fill-color);\n",
              "      border-left-color: var(--fill-color);\n",
              "    }\n",
              "    20% {\n",
              "      border-color: transparent;\n",
              "      border-left-color: var(--fill-color);\n",
              "      border-top-color: var(--fill-color);\n",
              "    }\n",
              "    30% {\n",
              "      border-color: transparent;\n",
              "      border-left-color: var(--fill-color);\n",
              "      border-top-color: var(--fill-color);\n",
              "      border-right-color: var(--fill-color);\n",
              "    }\n",
              "    40% {\n",
              "      border-color: transparent;\n",
              "      border-right-color: var(--fill-color);\n",
              "      border-top-color: var(--fill-color);\n",
              "    }\n",
              "    60% {\n",
              "      border-color: transparent;\n",
              "      border-right-color: var(--fill-color);\n",
              "    }\n",
              "    80% {\n",
              "      border-color: transparent;\n",
              "      border-right-color: var(--fill-color);\n",
              "      border-bottom-color: var(--fill-color);\n",
              "    }\n",
              "    90% {\n",
              "      border-color: transparent;\n",
              "      border-bottom-color: var(--fill-color);\n",
              "    }\n",
              "  }\n",
              "</style>\n",
              "\n",
              "  <script>\n",
              "    async function quickchart(key) {\n",
              "      const quickchartButtonEl =\n",
              "        document.querySelector('#' + key + ' button');\n",
              "      quickchartButtonEl.disabled = true;  // To prevent multiple clicks.\n",
              "      quickchartButtonEl.classList.add('colab-df-spinner');\n",
              "      try {\n",
              "        const charts = await google.colab.kernel.invokeFunction(\n",
              "            'suggestCharts', [key], {});\n",
              "      } catch (error) {\n",
              "        console.error('Error during call to suggestCharts:', error);\n",
              "      }\n",
              "      quickchartButtonEl.classList.remove('colab-df-spinner');\n",
              "      quickchartButtonEl.classList.add('colab-df-quickchart-complete');\n",
              "    }\n",
              "    (() => {\n",
              "      let quickchartButtonEl =\n",
              "        document.querySelector('#df-b036e8b5-efca-4594-8e4e-bfa607ff3eeb button');\n",
              "      quickchartButtonEl.style.display =\n",
              "        google.colab.kernel.accessAllowed ? 'block' : 'none';\n",
              "    })();\n",
              "  </script>\n",
              "</div>\n",
              "    </div>\n",
              "  </div>\n"
            ],
            "text/plain": [
              "                              SSN\n",
              "0                     987-65-4321\n",
              "1                           forty\n",
              "2  123-45-6789 bro or 321-45-6789\n",
              "3                     999-99-9999"
            ]
          },
          "execution_count": 22,
          "metadata": {},
          "output_type": "execute_result"
        }
      ],
      "source": [
        "# back to SSNs\n",
        "df_ssn"
      ]
    },
    {
      "cell_type": "code",
      "execution_count": null,
      "metadata": {
        "id": "Xks74iW91gtd",
        "outputId": "b4a26521-be48-44dd-a163-c0da5841535e"
      },
      "outputs": [
        {
          "data": {
            "text/html": [
              "<div>\n",
              "<style scoped>\n",
              "    .dataframe tbody tr th:only-of-type {\n",
              "        vertical-align: middle;\n",
              "    }\n",
              "\n",
              "    .dataframe tbody tr th {\n",
              "        vertical-align: top;\n",
              "    }\n",
              "\n",
              "    .dataframe thead th {\n",
              "        text-align: right;\n",
              "    }\n",
              "</style>\n",
              "<table border=\"1\" class=\"dataframe\">\n",
              "  <thead>\n",
              "    <tr style=\"text-align: right;\">\n",
              "      <th></th>\n",
              "      <th>sns</th>\n",
              "    </tr>\n",
              "  </thead>\n",
              "  <tbody>\n",
              "    <tr>\n",
              "      <th>0</th>\n",
              "      <td>(987, 65, 4321)</td>\n",
              "    </tr>\n",
              "    <tr>\n",
              "      <th>2</th>\n",
              "      <td>(123, 45, 6789)</td>\n",
              "    </tr>\n",
              "    <tr>\n",
              "      <th>2</th>\n",
              "      <td>(321, 45, 6789)</td>\n",
              "    </tr>\n",
              "    <tr>\n",
              "      <th>3</th>\n",
              "      <td>(999, 99, 9999)</td>\n",
              "    </tr>\n",
              "  </tbody>\n",
              "</table>\n",
              "</div>"
            ],
            "text/plain": [
              "               sns\n",
              "0  (987, 65, 4321)\n",
              "2  (123, 45, 6789)\n",
              "2  (321, 45, 6789)\n",
              "3  (999, 99, 9999)"
            ]
          },
          "execution_count": 20,
          "metadata": {},
          "output_type": "execute_result"
        }
      ],
      "source": [
        "# Will extract the first match of all groups\n",
        "# code here\n",
        "sns_df = pd.DataFrame(df[0].str.findall(r\"(\\d+)-(\\d+)-(\\d+)\").explode()).dropna()\n",
        "sns_df.columns=[\"sns\"]\n",
        "sns_df"
      ]
    },
    {
      "cell_type": "code",
      "execution_count": null,
      "metadata": {
        "id": "L-L_2QQgnt30",
        "outputId": "e62d189e-a58c-4940-d95e-52f6752ea5c6"
      },
      "outputs": [
        {
          "data": {
            "text/html": [
              "<div>\n",
              "<style scoped>\n",
              "    .dataframe tbody tr th:only-of-type {\n",
              "        vertical-align: middle;\n",
              "    }\n",
              "\n",
              "    .dataframe tbody tr th {\n",
              "        vertical-align: top;\n",
              "    }\n",
              "\n",
              "    .dataframe thead th {\n",
              "        text-align: right;\n",
              "    }\n",
              "</style>\n",
              "<table border=\"1\" class=\"dataframe\">\n",
              "  <thead>\n",
              "    <tr style=\"text-align: right;\">\n",
              "      <th></th>\n",
              "      <th>0</th>\n",
              "      <th>1</th>\n",
              "      <th>2</th>\n",
              "    </tr>\n",
              "  </thead>\n",
              "  <tbody>\n",
              "    <tr>\n",
              "      <th>0</th>\n",
              "      <td>987</td>\n",
              "      <td>65</td>\n",
              "      <td>4321</td>\n",
              "    </tr>\n",
              "    <tr>\n",
              "      <th>2</th>\n",
              "      <td>123</td>\n",
              "      <td>45</td>\n",
              "      <td>6789</td>\n",
              "    </tr>\n",
              "    <tr>\n",
              "      <th>2</th>\n",
              "      <td>321</td>\n",
              "      <td>45</td>\n",
              "      <td>6789</td>\n",
              "    </tr>\n",
              "    <tr>\n",
              "      <th>3</th>\n",
              "      <td>999</td>\n",
              "      <td>99</td>\n",
              "      <td>9999</td>\n",
              "    </tr>\n",
              "  </tbody>\n",
              "</table>\n",
              "</div>"
            ],
            "text/plain": [
              "     0   1     2\n",
              "0  987  65  4321\n",
              "2  123  45  6789\n",
              "2  321  45  6789\n",
              "3  999  99  9999"
            ]
          },
          "execution_count": 21,
          "metadata": {},
          "output_type": "execute_result"
        }
      ],
      "source": [
        "sns_df.sns.apply(pd.Series)"
      ]
    },
    {
      "cell_type": "markdown",
      "metadata": {
        "id": "CPHgEc9u1gte"
      },
      "source": [
        "Alternatively, `.str.extractall` extracts **all matches** of each record into separate columns. Rows are then MultiIndexed by original record index and match index."
      ]
    },
    {
      "cell_type": "code",
      "execution_count": null,
      "metadata": {
        "id": "_kO-Wx311gte",
        "outputId": "698af099-1e70-4c8f-bd57-5b85348ea5be"
      },
      "outputs": [
        {
          "data": {
            "text/html": [
              "<div>\n",
              "<style scoped>\n",
              "    .dataframe tbody tr th:only-of-type {\n",
              "        vertical-align: middle;\n",
              "    }\n",
              "\n",
              "    .dataframe tbody tr th {\n",
              "        vertical-align: top;\n",
              "    }\n",
              "\n",
              "    .dataframe thead th {\n",
              "        text-align: right;\n",
              "    }\n",
              "</style>\n",
              "<table border=\"1\" class=\"dataframe\">\n",
              "  <thead>\n",
              "    <tr style=\"text-align: right;\">\n",
              "      <th></th>\n",
              "      <th></th>\n",
              "      <th>0</th>\n",
              "      <th>1</th>\n",
              "      <th>2</th>\n",
              "    </tr>\n",
              "    <tr>\n",
              "      <th></th>\n",
              "      <th>match</th>\n",
              "      <th></th>\n",
              "      <th></th>\n",
              "      <th></th>\n",
              "    </tr>\n",
              "  </thead>\n",
              "  <tbody>\n",
              "    <tr>\n",
              "      <th>0</th>\n",
              "      <th>0</th>\n",
              "      <td>987</td>\n",
              "      <td>65</td>\n",
              "      <td>4321</td>\n",
              "    </tr>\n",
              "    <tr>\n",
              "      <th rowspan=\"2\" valign=\"top\">2</th>\n",
              "      <th>0</th>\n",
              "      <td>123</td>\n",
              "      <td>45</td>\n",
              "      <td>6789</td>\n",
              "    </tr>\n",
              "    <tr>\n",
              "      <th>1</th>\n",
              "      <td>321</td>\n",
              "      <td>45</td>\n",
              "      <td>6789</td>\n",
              "    </tr>\n",
              "    <tr>\n",
              "      <th>3</th>\n",
              "      <th>0</th>\n",
              "      <td>999</td>\n",
              "      <td>99</td>\n",
              "      <td>9999</td>\n",
              "    </tr>\n",
              "  </tbody>\n",
              "</table>\n",
              "</div>"
            ],
            "text/plain": [
              "           0   1     2\n",
              "  match               \n",
              "0 0      987  65  4321\n",
              "2 0      123  45  6789\n",
              "  1      321  45  6789\n",
              "3 0      999  99  9999"
            ]
          },
          "execution_count": 23,
          "metadata": {},
          "output_type": "execute_result"
        }
      ],
      "source": [
        "# -> DataFrame, one row per match\n",
        "# code Here\n",
        "df[0].str.extractall(r'(\\d{3})-(\\d{2})-(\\d{4})')"
      ]
    },
    {
      "cell_type": "markdown",
      "metadata": {
        "id": "-yUtK7Rf1gte"
      },
      "source": [
        "## Canonicalization with Regex"
      ]
    },
    {
      "cell_type": "markdown",
      "metadata": {
        "id": "LCByUzXu1gte"
      },
      "source": [
        "In regular Python, canonicalize with `re.sub` (standing for \"substitute\"):"
      ]
    },
    {
      "cell_type": "code",
      "execution_count": null,
      "metadata": {
        "id": "Vwf4YcPi1gte",
        "outputId": "0bf9468e-e0c2-4f8f-f7a5-f2dd37151d44"
      },
      "outputs": [
        {
          "data": {
            "text/plain": [
              "'Moo'"
            ]
          },
          "execution_count": 25,
          "metadata": {},
          "output_type": "execute_result"
        }
      ],
      "source": [
        "text = '<div><td valign=\"top\">Moo</td></div>'\n",
        "pattern = r\"<[^>]+>\"\n",
        "#code here\n",
        "re.sub(pattern, '', text)"
      ]
    },
    {
      "cell_type": "code",
      "execution_count": null,
      "metadata": {
        "id": "gF3O3VQAnt32",
        "outputId": "e1d14158-0b9a-40fb-d040-df85c671fd61"
      },
      "outputs": [
        {
          "data": {
            "text/plain": [
              "[('valign', 'top')]"
            ]
          },
          "execution_count": 26,
          "metadata": {},
          "output_type": "execute_result"
        }
      ],
      "source": [
        "pattern = r'(\\w+)=[\"\\']?([0-9A-Za-z]+)[\"\\']?\\w*'\n",
        "prop_val = re.findall(pattern, text)\n",
        "prop_val"
      ]
    },
    {
      "cell_type": "markdown",
      "metadata": {
        "id": "WNGjK8uf1gtk"
      },
      "source": [
        "<br/>\n",
        "\n",
        "In `pandas`, canonicalize with `Series.str.replace`."
      ]
    },
    {
      "cell_type": "code",
      "execution_count": null,
      "metadata": {
        "id": "wR3usAOX1gtk",
        "outputId": "54f5d110-c7cb-41dd-e28e-af83abc70f28"
      },
      "outputs": [
        {
          "name": "stdout",
          "output_type": "stream",
          "text": [
            "['<div><td valign=\"top\">Moo</td></div>', '<a href=\"http://ds100.org\">Link</a>', '<b>Bold text</b>']\n"
          ]
        }
      ],
      "source": [
        "# example dataframe of strings, convert in dataframe\n",
        "df_html = ['<div><td valign=\"top\">Moo</td></div>',\n",
        "                   '<a href=\"http://ds100.org\">Link</a>',\n",
        "                   '<b>Bold text</b>']\n",
        "print(df_html)"
      ]
    },
    {
      "cell_type": "code",
      "execution_count": null,
      "metadata": {
        "id": "MnnCj20a1gtk"
      },
      "outputs": [],
      "source": [
        "# Series -> Series\n",
        "#Extract only words\n",
        "pattern = r'<[^>]+>([\\w\\s]+)<[^>]+>'\n"
      ]
    },
    {
      "cell_type": "markdown",
      "metadata": {
        "id": "Efslx5Ro1gtl"
      },
      "source": [
        "\n",
        "# Revisiting Text Log Processing using Regex"
      ]
    },
    {
      "cell_type": "markdown",
      "metadata": {
        "id": "XW3IgpPe1gtl"
      },
      "source": [
        "### Python `re` version"
      ]
    },
    {
      "cell_type": "code",
      "execution_count": null,
      "metadata": {
        "id": "8TzW0cJ71gtl",
        "outputId": "6a50141b-bb9c-410b-9065-635c4f61b908"
      },
      "outputs": [
        {
          "data": {
            "text/plain": [
              "'169.237.46.168 - - [26/Jan/2014:10:47:58 -0800] \"GET /stat141/Winter04/ HTTP/1.1\" 200 2585 \"http://anson.ucdavis.edu/courses/\"\\n'"
            ]
          },
          "metadata": {},
          "output_type": "display_data"
        },
        {
          "data": {
            "text/plain": [
              "('26', 'Jan', '2014', '10', '47', '58', '-0800')"
            ]
          },
          "execution_count": 23,
          "metadata": {},
          "output_type": "execute_result"
        }
      ],
      "source": [
        "line = log_lines[0]\n",
        "display(line)\n",
        "# code here"
      ]
    },
    {
      "cell_type": "markdown",
      "metadata": {
        "id": "djnytSWa1gtl"
      },
      "source": [
        "### `pandas` version"
      ]
    },
    {
      "cell_type": "code",
      "execution_count": null,
      "metadata": {
        "id": "pe0aH8lw1gtl",
        "outputId": "271d0fae-c7a3-4ca7-d2df-ed4e9df5b720"
      },
      "outputs": [
        {
          "data": {
            "text/html": [
              "<div>\n",
              "<style scoped>\n",
              "    .dataframe tbody tr th:only-of-type {\n",
              "        vertical-align: middle;\n",
              "    }\n",
              "\n",
              "    .dataframe tbody tr th {\n",
              "        vertical-align: top;\n",
              "    }\n",
              "\n",
              "    .dataframe thead th {\n",
              "        text-align: right;\n",
              "    }\n",
              "</style>\n",
              "<table border=\"1\" class=\"dataframe\">\n",
              "  <thead>\n",
              "    <tr style=\"text-align: right;\">\n",
              "      <th></th>\n",
              "      <th>0</th>\n",
              "    </tr>\n",
              "  </thead>\n",
              "  <tbody>\n",
              "    <tr>\n",
              "      <th>0</th>\n",
              "      <td>169.237.46.168 - - [26/Jan/2014:10:47:58 -0800...</td>\n",
              "    </tr>\n",
              "    <tr>\n",
              "      <th>1</th>\n",
              "      <td>193.205.203.3 - - [2/Feb/2005:17:23:6 -0800] \"...</td>\n",
              "    </tr>\n",
              "    <tr>\n",
              "      <th>2</th>\n",
              "      <td>169.237.46.240 - \"\" [3/Feb/2006:10:18:37 -0800...</td>\n",
              "    </tr>\n",
              "  </tbody>\n",
              "</table>\n",
              "</div>"
            ],
            "text/plain": [
              "                                                   0\n",
              "0  169.237.46.168 - - [26/Jan/2014:10:47:58 -0800...\n",
              "1  193.205.203.3 - - [2/Feb/2005:17:23:6 -0800] \"...\n",
              "2  169.237.46.240 - \"\" [3/Feb/2006:10:18:37 -0800..."
            ]
          },
          "execution_count": 35,
          "metadata": {},
          "output_type": "execute_result"
        }
      ],
      "source": [
        "# code here\n",
        "df = pd.DataFrame(logs)\n",
        "df"
      ]
    },
    {
      "cell_type": "code",
      "execution_count": null,
      "metadata": {
        "id": "HBiGsR_Hnt35"
      },
      "outputs": [],
      "source": []
    },
    {
      "cell_type": "markdown",
      "metadata": {
        "id": "-bi3DGGr1gtm"
      },
      "source": [
        "Option 1: `Series.str.findall`"
      ]
    },
    {
      "cell_type": "code",
      "execution_count": null,
      "metadata": {
        "id": "bH_6WvJG1gtm",
        "outputId": "3ae5792b-d50a-4fb9-dffe-c73ffa6209a5"
      },
      "outputs": [
        {
          "data": {
            "text/plain": [
              "0    [26/Jan/2014:10:47:58 -0800]\n",
              "1      [2/Feb/2005:17:23:6 -0800]\n",
              "2     [3/Feb/2006:10:18:37 -0800]\n",
              "Name: 0, dtype: object"
            ]
          },
          "execution_count": 37,
          "metadata": {},
          "output_type": "execute_result"
        }
      ],
      "source": [
        "# code here\n",
        "df[0].str.findall(r'\\[(.+)\\]')"
      ]
    },
    {
      "cell_type": "markdown",
      "metadata": {
        "id": "tUGEx15V1gtm"
      },
      "source": [
        "<br/>\n",
        "\n",
        "Option 2: `Series.str.extractall`"
      ]
    },
    {
      "cell_type": "code",
      "execution_count": null,
      "metadata": {
        "id": "t0bgeQbY1gtm"
      },
      "outputs": [],
      "source": [
        "# code here\n",
        "df_extracted = df[0].str.extractall(r'\\[(\\d{0,2})/(\\w+)/(\\d{4}):(\\d{0,2}):(\\d{0,2}):(\\d{0,2})\\s([-\\d]+)\\]')\n",
        "df_extracted.columns = [\"Day\", \"Month\", \"Year\", \"Hour\", \"Minute\", \"Second\", \"Time Zone\"]\n",
        "df_extracted = df_extracted.reset_index().drop([\"level_0\", \"match\"], axis=1)"
      ]
    },
    {
      "cell_type": "markdown",
      "metadata": {
        "id": "iSlAjOpS1gtm"
      },
      "source": [
        "Wrangling either of these two DataFrames into a nice format (like below) is left as an exercise for you!\n",
        "\n",
        "\n",
        "||Day|Month|Year|Hour|Minute|Second|Time Zone|\n",
        "|---|---|---|---|---|---|---|---|\n",
        "|0|26|Jan|2014|10|47|58|-0800|\n",
        "|1|2|Feb|2005|17|23|6|-0800|\n",
        "|2|3|Feb|2006|10|18|37|-0800|\n"
      ]
    },
    {
      "cell_type": "code",
      "execution_count": null,
      "metadata": {
        "id": "JVbuDswe1gtn",
        "outputId": "d4a021f2-c0c6-4d84-9956-75db912b6673"
      },
      "outputs": [
        {
          "data": {
            "text/html": [
              "<div>\n",
              "<style scoped>\n",
              "    .dataframe tbody tr th:only-of-type {\n",
              "        vertical-align: middle;\n",
              "    }\n",
              "\n",
              "    .dataframe tbody tr th {\n",
              "        vertical-align: top;\n",
              "    }\n",
              "\n",
              "    .dataframe thead th {\n",
              "        text-align: right;\n",
              "    }\n",
              "</style>\n",
              "<table border=\"1\" class=\"dataframe\">\n",
              "  <thead>\n",
              "    <tr style=\"text-align: right;\">\n",
              "      <th></th>\n",
              "      <th>Day</th>\n",
              "      <th>Month</th>\n",
              "      <th>Year</th>\n",
              "      <th>Hour</th>\n",
              "      <th>Minute</th>\n",
              "      <th>Second</th>\n",
              "      <th>Time Zone</th>\n",
              "    </tr>\n",
              "  </thead>\n",
              "  <tbody>\n",
              "    <tr>\n",
              "      <th>0</th>\n",
              "      <td>26</td>\n",
              "      <td>Jan</td>\n",
              "      <td>2014</td>\n",
              "      <td>10</td>\n",
              "      <td>47</td>\n",
              "      <td>58</td>\n",
              "      <td>-0800</td>\n",
              "    </tr>\n",
              "    <tr>\n",
              "      <th>1</th>\n",
              "      <td>2</td>\n",
              "      <td>Feb</td>\n",
              "      <td>2005</td>\n",
              "      <td>17</td>\n",
              "      <td>23</td>\n",
              "      <td>6</td>\n",
              "      <td>-0800</td>\n",
              "    </tr>\n",
              "    <tr>\n",
              "      <th>2</th>\n",
              "      <td>3</td>\n",
              "      <td>Feb</td>\n",
              "      <td>2006</td>\n",
              "      <td>10</td>\n",
              "      <td>18</td>\n",
              "      <td>37</td>\n",
              "      <td>-0800</td>\n",
              "    </tr>\n",
              "  </tbody>\n",
              "</table>\n",
              "</div>"
            ],
            "text/plain": [
              "  Day Month  Year Hour Minute Second Time Zone\n",
              "0  26   Jan  2014   10     47     58     -0800\n",
              "1   2   Feb  2005   17     23      6     -0800\n",
              "2   3   Feb  2006   10     18     37     -0800"
            ]
          },
          "execution_count": 39,
          "metadata": {},
          "output_type": "execute_result"
        }
      ],
      "source": [
        "# your code here\n",
        "df_extracted"
      ]
    },
    {
      "cell_type": "code",
      "execution_count": null,
      "metadata": {
        "id": "KUiAf05dnt39"
      },
      "outputs": [],
      "source": []
    }
  ],
  "metadata": {
    "colab": {
      "provenance": [],
      "include_colab_link": true
    },
    "kernelspec": {
      "display_name": "Python 3 (ipykernel)",
      "language": "python",
      "name": "python3"
    },
    "language_info": {
      "codemirror_mode": {
        "name": "ipython",
        "version": 3
      },
      "file_extension": ".py",
      "mimetype": "text/x-python",
      "name": "python",
      "nbconvert_exporter": "python",
      "pygments_lexer": "ipython3",
      "version": "3.11.3"
    }
  },
  "nbformat": 4,
  "nbformat_minor": 0
}