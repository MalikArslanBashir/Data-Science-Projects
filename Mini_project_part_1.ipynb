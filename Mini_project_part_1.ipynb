{
  "cells": [
    {
      "cell_type": "markdown",
      "metadata": {
        "id": "view-in-github",
        "colab_type": "text"
      },
      "source": [
        "<a href=\"https://colab.research.google.com/github/MalikArslanBashir/Data-Science-Tasks/blob/main/Mini_project_part_1.ipynb\" target=\"_parent\"><img src=\"https://colab.research.google.com/assets/colab-badge.svg\" alt=\"Open In Colab\"/></a>"
      ]
    },
    {
      "cell_type": "markdown",
      "metadata": {
        "id": "e9ac3769"
      },
      "source": [
        "# Image Denoising\n",
        "\n",
        "**An application of autoencoders includes image denoising. For this part I'll be using the person dataset that is a subset of the COCO dataset. You can download the datset using this link (https://drive.google.com/file/d/1gHTLS6dvEp31X2dWBdLrvGr--5WOm1Z3/view?usp=sharing). I'll use the images present in the dataset and generate my own labels through adding salt and pepper noise to the image. Given input to the model will be the noisy image created through using functions from opencv library and output will be the original image.**\n"
      ]
    },
    {
      "cell_type": "code",
      "source": [
        "from google.colab import drive\n",
        "drive.mount('/content/drive')"
      ],
      "metadata": {
        "colab": {
          "base_uri": "https://localhost:8080/"
        },
        "id": "Cr-Iac6Nelj1",
        "outputId": "aa94fcd8-a877-4571-fed7-c378ee294541"
      },
      "execution_count": 1,
      "outputs": [
        {
          "output_type": "stream",
          "name": "stdout",
          "text": [
            "Mounted at /content/drive\n"
          ]
        }
      ]
    },
    {
      "cell_type": "code",
      "execution_count": 4,
      "metadata": {
        "id": "jW_yjJyXZUxX"
      },
      "outputs": [],
      "source": [
        "import numpy as np\n",
        "import pandas as pd\n",
        "import tensorflow as tf\n",
        "import cv2\n",
        "import zipfile\n",
        "import io\n",
        "import os"
      ]
    },
    {
      "cell_type": "code",
      "execution_count": 5,
      "metadata": {
        "id": "dsbP21PaZUxZ"
      },
      "outputs": [],
      "source": [
        "extracted_path = '/content/drive/MyDrive/Data_Science/Persons_dataset'\n",
        "original_image=[]\n",
        "noisy_image=[]\n",
        "for root, dirs, files in os.walk(extracted_path):\n",
        "    for filename in files:\n",
        "        if filename.endswith(\".jpg\") or filename.endswith(\".png\"):\n",
        "            image_path = os.path.join(root, filename)\n",
        "            original_img = cv2.imread(image_path)\n",
        "            original_image.append(original_img)\n",
        "        def preprocess_image(image, desired_width, desired_height):\n",
        "            img = cv2.resize(image, (desired_width, desired_height))\n",
        "            img = img.astype('float32') / 255.0\n",
        "            return img\n",
        "        img = preprocess_image(original_img, desired_width=64, desired_height=64)\n",
        "        original_image.append(img)\n",
        "        noise_img = img.copy()\n",
        "        p = 0.05\n",
        "        salt_vs_pepper = 0.5\n",
        "        amount = 0.04\n",
        "        num_salt = np.ceil(amount * noise_img.size * p)\n",
        "        num_pepper = np.ceil(amount * noise_img.size * (1.0 - p))\n",
        "        salt_coords = [np.random.randint(0, i - 1, int(num_salt)) for i in noise_img.shape]\n",
        "        noise_img[salt_coords[0], salt_coords[1], :] = 255\n",
        "        pepper_coords = [np.random.randint(0, i - 1, int(num_pepper)) for i in noise_img.shape]\n",
        "        noise_img[pepper_coords[0], pepper_coords[1], :] = 0\n",
        "        noisy_image.append(noise_img)"
      ]
    },
    {
      "cell_type": "code",
      "execution_count": 6,
      "metadata": {
        "colab": {
          "base_uri": "https://localhost:8080/"
        },
        "id": "l1r6iHbsZUxd",
        "outputId": "7898e07b-c8ab-4032-a9d8-dd9c90708ab6"
      },
      "outputs": [
        {
          "output_type": "stream",
          "name": "stdout",
          "text": [
            "Grayscale Noisy Images length: 2000\n",
            "Grayscale Original Images length: 2000\n"
          ]
        }
      ],
      "source": [
        "grayscale_original_images = [cv2.cvtColor(img, cv2.COLOR_BGR2GRAY) for img in original_image]\n",
        "grayscale_noisy_images = [cv2.cvtColor(img, cv2.COLOR_BGR2GRAY) for img in noisy_image]\n",
        "grayscale_noisy_images = np.pad(grayscale_noisy_images, (0, 1000), 'constant')\n",
        "print(\"Grayscale Noisy Images length:\", len(grayscale_noisy_images))\n",
        "print(\"Grayscale Original Images length:\", len(grayscale_original_images))"
      ]
    },
    {
      "cell_type": "code",
      "execution_count": null,
      "metadata": {
        "id": "7D3kOmdfZUxh"
      },
      "outputs": [],
      "source": [
        "from sklearn.model_selection import train_test_split\n",
        "noisy_train, noisy_test, original_train, original_test = train_test_split(grayscale_noisy_images, grayscale_original_images, test_size=0.2, random_state=42)\n",
        "noisy_test, noisy_val, original_test, original_val = train_test_split(noisy_test, original_test, test_size=0.5, random_state=42)\n",
        "print(\"Noisy Train length:\", len(noisy_train))\n",
        "print(\"Noisy Validation length:\", len(noisy_val))\n",
        "print(\"Noisy Test length:\", len(noisy_test))\n",
        "noisy_train = np.array(noisy_train)\n",
        "original_train = np.array(original_train)\n",
        "noisy_val = np.array(noisy_val)\n",
        "original_val = np.array(original_val)\n",
        "noisy_test=np.array(noisy_test)\n",
        "original_test=np.array(original_test)"
      ]
    },
    {
      "cell_type": "code",
      "execution_count": null,
      "metadata": {
        "id": "I1vyVXfAZUxi"
      },
      "outputs": [],
      "source": [
        "import tensorflow as tf\n",
        "from tensorflow.keras import layers, Model\n",
        "\n",
        "input_shape = (64, 64, 1)\n",
        "\n",
        "input_img = layers.Input(shape=input_shape)\n",
        "x = layers.Conv2D(32, (3, 3), activation='relu', padding='same')(input_img)\n",
        "x = layers.MaxPooling2D((2, 2), padding='same')(x)\n",
        "x = layers.Conv2D(512, (3, 3), activation='relu', padding='same')(x)\n",
        "encoded = layers.MaxPooling2D((2, 2), padding='same')(x)\n",
        "\n",
        "\n",
        "x = layers.Conv2D(512, (3, 3), activation='relu', padding='same')(encoded)\n",
        "x = layers.UpSampling2D((2, 2))(x)\n",
        "x = layers.Conv2D(32, (3, 3), activation='relu', padding='same')(x)\n",
        "x = layers.UpSampling2D((2, 2))(x)\n",
        "decoded = layers.Conv2D(1, (3, 3), activation='sigmoid', padding='same')(x)\n",
        "\n",
        "autoencoder = Model(input_img, decoded)\n",
        "autoencoder.compile(optimizer='adam', loss='mean_squared_error')"
      ]
    },
    {
      "cell_type": "code",
      "execution_count": null,
      "metadata": {
        "id": "vt4opBKsZUxi",
        "outputId": "904f741d-fbcc-4586-c1e1-780b992d7109"
      },
      "outputs": [
        {
          "name": "stdout",
          "output_type": "stream",
          "text": [
            "Epoch 1/10\n",
            "250/250 [==============================] - 889s 4s/step - loss: 0.0817 - val_loss: 0.0635\n",
            "Epoch 2/10\n",
            "250/250 [==============================] - 815s 3s/step - loss: 0.0416 - val_loss: 0.0305\n",
            "Epoch 3/10\n",
            "250/250 [==============================] - 973s 4s/step - loss: 0.0268 - val_loss: 0.0159\n",
            "Epoch 4/10\n",
            "250/250 [==============================] - 1029s 4s/step - loss: 0.0149 - val_loss: 0.0138\n",
            "Epoch 5/10\n",
            "250/250 [==============================] - 1062s 4s/step - loss: 0.0136 - val_loss: 0.0133\n",
            "Epoch 6/10\n",
            "250/250 [==============================] - 8322s 33s/step - loss: 0.0130 - val_loss: 0.0125\n",
            "Epoch 7/10\n",
            "250/250 [==============================] - 765s 3s/step - loss: 0.0125 - val_loss: 0.0119\n",
            "Epoch 8/10\n",
            "250/250 [==============================] - 805s 3s/step - loss: 0.0121 - val_loss: 0.0116\n",
            "Epoch 9/10\n",
            "250/250 [==============================] - 777s 3s/step - loss: 0.0117 - val_loss: 0.0114\n",
            "Epoch 10/10\n",
            "250/250 [==============================] - 734s 3s/step - loss: 0.0114 - val_loss: 0.0109\n"
          ]
        }
      ],
      "source": [
        "history = autoencoder.fit(\n",
        "    noisy_train, original_train,\n",
        "    epochs=10, batch_size=32,\n",
        "    validation_data=(noisy_val, original_val)\n",
        ")\n"
      ]
    },
    {
      "cell_type": "code",
      "execution_count": null,
      "metadata": {
        "id": "q829Pr6dZUxj",
        "outputId": "b5a065c5-6397-403b-f45e-b064df797eea"
      },
      "outputs": [
        {
          "name": "stdout",
          "output_type": "stream",
          "text": [
            "32/32 [==============================] - 34s 1s/step\n"
          ]
        }
      ],
      "source": [
        "original_pred=autoencoder.predict(noisy_test[0:])\n"
      ]
    },
    {
      "cell_type": "code",
      "execution_count": null,
      "metadata": {
        "id": "8whctgDyZUxj",
        "outputId": "bbace5d4-6f97-4ecb-87ae-adb88ec3bed6"
      },
      "outputs": [
        {
          "name": "stdout",
          "output_type": "stream",
          "text": [
            "32/32 [==============================] - 34s 1s/step - loss: 0.0021\n"
          ]
        }
      ],
      "source": [
        "loss=autoencoder.evaluate(original_test,original_pred)"
      ]
    },
    {
      "cell_type": "code",
      "execution_count": null,
      "metadata": {
        "id": "tB6Q9S7HZUxk",
        "outputId": "0d6f6d18-7591-490e-c866-7d647f205284"
      },
      "outputs": [
        {
          "name": "stdout",
          "output_type": "stream",
          "text": [
            "1/1 [==============================] - 0s 255ms/step\n"
          ]
        },
        {
          "data": {
            "image/png": "[encoded data removed]",
            "text/plain": [
              "<Figure size 640x480 with 2 Axes>"
            ]
          },
          "metadata": {},
          "output_type": "display_data"
        }
      ],
      "source": [
        "import cv2\n",
        "import matplotlib.pyplot as plt\n",
        "import numpy as np\n",
        "\n",
        "image_path = 'C:\\\\Users\\\\KTG\\\\Desktop\\\\Grey-scale-image-corrupted-with-salt-and-pepper-noise-which-is-used-for-training-the-HNN.png'\n",
        "noisy_img = cv2.imread(image_path, cv2.IMREAD_GRAYSCALE)\n",
        "\n",
        "\n",
        "input_img = cv2.resize(noisy_img, (64, 64))\n",
        "input_img = input_img / 255.0\n",
        "\n",
        "plt.subplot(1, 2, 1)\n",
        "plt.title('Input Image')\n",
        "plt.imshow(input_img, cmap='gray')\n",
        "plt.axis('off')\n",
        "\n",
        "denoised_img = autoencoder.predict(np.array([input_img.reshape(64, 64, 1)]))\n",
        "denoised_img = np.squeeze(denoised_img, axis=0)\n",
        "\n",
        "plt.subplot(1, 2, 2)\n",
        "plt.title('Denoised Image')\n",
        "plt.imshow(denoised_img, cmap='gray')\n",
        "plt.axis('off')\n",
        "\n",
        "plt.show()\n"
      ]
    }
  ],
  "metadata": {
    "colab": {
      "provenance": [],
      "include_colab_link": true
    },
    "kernelspec": {
      "display_name": "Python 3",
      "name": "python3"
    },
    "language_info": {
      "codemirror_mode": {
        "name": "ipython",
        "version": 3
      },
      "file_extension": ".py",
      "mimetype": "text/x-python",
      "name": "python",
      "nbconvert_exporter": "python",
      "pygments_lexer": "ipython3",
      "version": "3.11.4"
    }
  },
  "nbformat": 4,
  "nbformat_minor": 0
}